{
 "cells": [
  {
   "cell_type": "markdown",
   "id": "f4b5a5bf",
   "metadata": {},
   "source": [
    "<h1 style=\"color:red;text-align: center\";> ISAT 449 Emerging Topics in Data Science </h1>\n",
    "<h2 style=\"color:red;text-align: center\";> Training a Multilayer Perceptron Model using Scikit-Learn\n",
    "<img   src=\"images/MLP.png\" width=400; height=400>\n",
    "<br>\n",
    "<h3 style=\"color:red;text-align: center\";> Completed by Quron Anthony"
   ]
  },
  {
   "cell_type": "markdown",
   "id": "f8ad6b00",
   "metadata": {},
   "source": [
    "# Objectives\n",
    "\n",
    "# Multilayer Perceptron Model for Image Classification (Digits Dataset)\n",
    "- Create and use Machine Learning Models with SciKit Learn\n",
    "- Perform Classification with SciKit Learn MLPClassifier\n",
    "- Hyperparameter Tuning\n",
    "    - Loss Functions\n",
    "    - Optimization Algorithms\n",
    "    - Number of Hidden Layers in MLP Models\n",
    "- Algorithmic Bias\n",
    "    - Test for Balanced Datasets\n",
    "- Plotting the Loss Curve during Training\n",
    "- Create Predictive Models\n",
    "- Perform Model Evaluation\n",
    "    - Model Score and Accuracy\n",
    "- Confusion Matrix"
   ]
  },
  {
   "cell_type": "markdown",
   "id": "4796d9b1",
   "metadata": {},
   "source": [
    "## Loading packages "
   ]
  },
  {
   "cell_type": "code",
   "execution_count": 1,
   "id": "facec3f3",
   "metadata": {},
   "outputs": [],
   "source": [
    "%matplotlib inline\n",
    "from sklearn.neural_network import MLPClassifier\n",
    "from sklearn.model_selection import train_test_split\n",
    "from sklearn.metrics import classification_report\n",
    "import numpy as np\n",
    "import matplotlib.pyplot as plt\n",
    "\n"
   ]
  },
  {
   "cell_type": "markdown",
   "id": "51305653",
   "metadata": {},
   "source": [
    "# Recognizing Hand-Written Digits\n",
    "- The dataset cosists of 1797 images\n",
    "- Each image is a hand-written digit\n",
    "- Each image is 8x8 pixel square"
   ]
  },
  {
   "cell_type": "markdown",
   "id": "e9bfc46b",
   "metadata": {},
   "source": [
    "## Import and Load Sci-kit Learn's Built In Image Dataset"
   ]
  },
  {
   "cell_type": "code",
   "execution_count": 2,
   "id": "7852ab33",
   "metadata": {},
   "outputs": [],
   "source": [
    "# Standard SciPy Stack Python imports\n",
    "from sklearn import datasets\n",
    "# Load the digits dataset\n",
    "digits = datasets.load_digits()"
   ]
  },
  {
   "cell_type": "markdown",
   "id": "8ebe24fc",
   "metadata": {},
   "source": [
    "## Shape of Data Array"
   ]
  },
  {
   "cell_type": "code",
   "execution_count": 3,
   "id": "53688560",
   "metadata": {},
   "outputs": [
    {
     "name": "stdout",
     "output_type": "stream",
     "text": [
      "The data set has a shape of: (1797, 64)\n"
     ]
    }
   ],
   "source": [
    "print('The data set has a shape of: {}'.format(digits.data.shape))"
   ]
  },
  {
   "cell_type": "markdown",
   "id": "d599193d",
   "metadata": {},
   "source": [
    "## Showing One of the Images"
   ]
  },
  {
   "cell_type": "code",
   "execution_count": 4,
   "id": "12854f3b",
   "metadata": {},
   "outputs": [
    {
     "data": {
      "image/png": "[encoded data removed]",
      "text/plain": [
       "<Figure size 640x480 with 1 Axes>"
      ]
     },
     "metadata": {},
     "output_type": "display_data"
    }
   ],
   "source": [
    "import matplotlib.pyplot as plt\n",
    "plt.gray()\n",
    "plt.imshow(digits.images[0])\n",
    "plt.show()"
   ]
  },
  {
   "cell_type": "markdown",
   "id": "f473faad",
   "metadata": {},
   "source": [
    "## Creating the feature matrix and target vector"
   ]
  },
  {
   "cell_type": "code",
   "execution_count": 5,
   "id": "0664bb54",
   "metadata": {},
   "outputs": [
    {
     "data": {
      "text/plain": [
       "array([ 0.,  0.,  5., 13.,  9.,  1.,  0.,  0.,  0.,  0., 13., 15., 10.,\n",
       "       15.,  5.,  0.,  0.,  3., 15.,  2.,  0., 11.,  8.,  0.,  0.,  4.,\n",
       "       12.,  0.,  0.,  8.,  8.,  0.,  0.,  5.,  8.,  0.,  0.,  9.,  8.,\n",
       "        0.,  0.,  4., 11.,  0.,  1., 12.,  7.,  0.,  0.,  2., 14.,  5.,\n",
       "       10., 12.,  0.,  0.,  0.,  0.,  6., 13., 10.,  0.,  0.,  0.])"
      ]
     },
     "execution_count": 5,
     "metadata": {},
     "output_type": "execute_result"
    }
   ],
   "source": [
    "# Feature Matrix\n",
    "X = digits.data\n",
    "\n",
    "#Target vector\n",
    "y = digits.target\n",
    "\n",
    "#View the first image's feature values as a flattened vector\n",
    "X[0]"
   ]
  },
  {
   "cell_type": "code",
   "execution_count": 6,
   "id": "c722b0b0",
   "metadata": {},
   "outputs": [
    {
     "data": {
      "text/plain": [
       "array([[ 0.,  0.,  5., 13.,  9.,  1.,  0.,  0.],\n",
       "       [ 0.,  0., 13., 15., 10., 15.,  5.,  0.],\n",
       "       [ 0.,  3., 15.,  2.,  0., 11.,  8.,  0.],\n",
       "       [ 0.,  4., 12.,  0.,  0.,  8.,  8.,  0.],\n",
       "       [ 0.,  5.,  8.,  0.,  0.,  9.,  8.,  0.],\n",
       "       [ 0.,  4., 11.,  0.,  1., 12.,  7.,  0.],\n",
       "       [ 0.,  2., 14.,  5., 10., 12.,  0.,  0.],\n",
       "       [ 0.,  0.,  6., 13., 10.,  0.,  0.,  0.]])"
      ]
     },
     "execution_count": 6,
     "metadata": {},
     "output_type": "execute_result"
    }
   ],
   "source": [
    "#Now as an image array (matrix)\n",
    "digits.images[0]"
   ]
  },
  {
   "cell_type": "code",
   "execution_count": 7,
   "id": "a802e274",
   "metadata": {},
   "outputs": [
    {
     "name": "stdout",
     "output_type": "stream",
     "text": [
      "The digits are NumPy arrays as can be seen here: <class 'numpy.ndarray'>\n"
     ]
    }
   ],
   "source": [
    "#The digits dataset\n",
    "print(\"The digits are NumPy arrays as can be seen here: {}\".format(type(digits.images[0])))"
   ]
  },
  {
   "cell_type": "code",
   "execution_count": 8,
   "id": "d980cc81",
   "metadata": {},
   "outputs": [
    {
     "name": "stdout",
     "output_type": "stream",
     "text": [
      "The array for an arbitrary digit is: \n",
      "\n",
      "[[ 0.  0.  5. 13.  9.  1.  0.  0.]\n",
      " [ 0.  0. 13. 15. 10. 15.  5.  0.]\n",
      " [ 0.  3. 15.  2.  0. 11.  8.  0.]\n",
      " [ 0.  4. 12.  0.  0.  8.  8.  0.]\n",
      " [ 0.  5.  8.  0.  0.  9.  8.  0.]\n",
      " [ 0.  4. 11.  0.  1. 12.  7.  0.]\n",
      " [ 0.  2. 14.  5. 10. 12.  0.  0.]\n",
      " [ 0.  0.  6. 13. 10.  0.  0.  0.]]\n"
     ]
    }
   ],
   "source": [
    "print('The array for an arbitrary digit is: \\n\\n{}'.format(digits.images[0]))"
   ]
  },
  {
   "cell_type": "code",
   "execution_count": 9,
   "id": "097035e9",
   "metadata": {},
   "outputs": [
    {
     "name": "stdout",
     "output_type": "stream",
     "text": [
      "The target vector consist of digits from 0 to 9. The first 20 are printed below [0 1 2 3 4 5 6 7 8 9 0 1 2 3 4 5 6 7 8 9]\n"
     ]
    }
   ],
   "source": [
    "print('The target vector consist of digits from 0 to 9. The first 20 are printed below {}'.format(digits.target[:20]))"
   ]
  },
  {
   "cell_type": "markdown",
   "id": "ed6f2926",
   "metadata": {},
   "source": [
    "## Normalize the data for better fitting and convergence "
   ]
  },
  {
   "cell_type": "code",
   "execution_count": 10,
   "id": "d1334e7d",
   "metadata": {},
   "outputs": [
    {
     "name": "stdout",
     "output_type": "stream",
     "text": [
      "Before normalization: X_min=0.0, X_max=16.0\n"
     ]
    }
   ],
   "source": [
    "#Before normalization \n",
    "print(f'Before normalization: X_min={X.min()}, X_max={X.max()}')"
   ]
  },
  {
   "cell_type": "code",
   "execution_count": 11,
   "id": "b74b678e",
   "metadata": {},
   "outputs": [],
   "source": [
    "#Normalize the dataset. We should really be using something like MinMaxScaler here\n",
    "X = X/16.0"
   ]
  },
  {
   "cell_type": "code",
   "execution_count": 12,
   "id": "fa34b24c",
   "metadata": {},
   "outputs": [
    {
     "name": "stdout",
     "output_type": "stream",
     "text": [
      "After normalization: X_min0.0, X_max1.0\n"
     ]
    }
   ],
   "source": [
    "#After Normalization \n",
    "print(f'After normalization: X_min{X.min()}, X_max{X.max()}')"
   ]
  },
  {
   "cell_type": "markdown",
   "id": "3edc3732",
   "metadata": {},
   "source": [
    "## Testing and Splitting Data "
   ]
  },
  {
   "cell_type": "code",
   "execution_count": 13,
   "id": "bd2d4545",
   "metadata": {},
   "outputs": [],
   "source": [
    "from sklearn.model_selection import train_test_split\n",
    "import numpy as np\n",
    "X_train, X_test, y_train, y_test = train_test_split(X,y, test_size= 0.25, random_state=0)"
   ]
  },
  {
   "cell_type": "markdown",
   "id": "658b27fa",
   "metadata": {},
   "source": [
    "## Print a Selection of Training Images and their Labels "
   ]
  },
  {
   "cell_type": "code",
   "execution_count": 14,
   "id": "881cecb0",
   "metadata": {},
   "outputs": [],
   "source": [
    "def plot_example(X,y):\n",
    "    \"This code plots the first 5 images and their lables in a row.\"\n",
    "    for i, (img,y) in enumerate(zip(X[:5].reshape(5,8,8),y[:5])):\n",
    "        plt.subplot(151 + i)\n",
    "        plt.imshow(img)\n",
    "        plt.xticks([])\n",
    "        plt.yticks([])\n",
    "        plt.title(y)"
   ]
  },
  {
   "cell_type": "code",
   "execution_count": 15,
   "id": "30ba1c57",
   "metadata": {},
   "outputs": [
    {
     "data": {
      "image/png": "[encoded data removed]",
      "text/plain": [
       "<Figure size 640x480 with 5 Axes>"
      ]
     },
     "metadata": {},
     "output_type": "display_data"
    }
   ],
   "source": [
    "plot_example(X_train,y_train)"
   ]
  },
  {
   "cell_type": "code",
   "execution_count": 16,
   "id": "11bbc8fc",
   "metadata": {
    "scrolled": true
   },
   "outputs": [
    {
     "data": {
      "text/plain": [
       "<BarContainer object of 10 artists>"
      ]
     },
     "execution_count": 16,
     "metadata": {},
     "output_type": "execute_result"
    },
    {
     "data": {
      "image/png": "[encoded data removed]",
      "text/plain": [
       "<Figure size 640x480 with 1 Axes>"
      ]
     },
     "metadata": {},
     "output_type": "display_data"
    }
   ],
   "source": [
    "plt.bar(np.unique(y_train), height = 100)\n"
   ]
  },
  {
   "cell_type": "markdown",
   "id": "350e384b",
   "metadata": {},
   "source": [
    "## Shape of the Dataset"
   ]
  },
  {
   "cell_type": "code",
   "execution_count": 17,
   "id": "09a6851c",
   "metadata": {},
   "outputs": [
    {
     "name": "stdout",
     "output_type": "stream",
     "text": [
      "X_train Shape of the data: (1347, 64)\n",
      "y_train Shape of the data: (1347,)\n"
     ]
    }
   ],
   "source": [
    "print('X_train Shape of the data: {}'.format(X_train.shape))\n",
    "print('y_train Shape of the data: {}'.format(y_train.shape))"
   ]
  },
  {
   "cell_type": "code",
   "execution_count": 18,
   "id": "c4732729",
   "metadata": {},
   "outputs": [
    {
     "name": "stdout",
     "output_type": "stream",
     "text": [
      "X_test Shape of data: (450, 64)\n",
      "y_test Shape of data: (450,)\n"
     ]
    }
   ],
   "source": [
    "print('X_test Shape of data: {}'.format(X_test.shape))\n",
    "print('y_test Shape of data: {}'.format(y_test.shape))"
   ]
  },
  {
   "cell_type": "code",
   "execution_count": 19,
   "id": "045547ce",
   "metadata": {},
   "outputs": [
    {
     "name": "stdout",
     "output_type": "stream",
     "text": [
      "Class labels: [0 1 2 3 4 5 6 7 8 9]\n",
      "Class proportions: [141 139 133 138 143 134 129 131 126 133]\n"
     ]
    }
   ],
   "source": [
    "print('Class labels:', np.unique(y_train))\n",
    "print('Class proportions:', np.bincount(y_train))"
   ]
  },
  {
   "cell_type": "markdown",
   "id": "3edd99c9",
   "metadata": {},
   "source": [
    "## The Model Using a Miltilayer Perceptron Classifier\n",
    "# Parameters\n",
    "- hidden layer = 256 neurons\n",
    "- hidden layer = 128 neurons \n",
    "- hidden layer = 32 neurons \n",
    "- solver='adam'\n",
    "- learning_rate_init = 0.001\n",
    "- tol = 1e-3\n",
    "- max_iter = 500\n"
   ]
  },
  {
   "cell_type": "code",
   "execution_count": 20,
   "id": "9b3c5cf3",
   "metadata": {},
   "outputs": [],
   "source": [
    "mlp_digits_model = MLPClassifier(hidden_layer_sizes=(256,128,32),max_iter=500,\n",
    "                                alpha=0.001, solver='adam', random_state= 0, verbose = False,\n",
    "                                 tol = 1e-3)\n"
   ]
  },
  {
   "cell_type": "markdown",
   "id": "64b0cfe7",
   "metadata": {},
   "source": [
    "## Training (fitting) the Model"
   ]
  },
  {
   "cell_type": "code",
   "execution_count": 21,
   "id": "083038c5",
   "metadata": {},
   "outputs": [
    {
     "data": {
      "text/html": [
       "<style>#sk-container-id-1 {color: black;}#sk-container-id-1 pre{padding: 0;}#sk-container-id-1 div.sk-toggleable {background-color: white;}#sk-container-id-1 label.sk-toggleable__label {cursor: pointer;display: block;width: 100%;margin-bottom: 0;padding: 0.3em;box-sizing: border-box;text-align: center;}#sk-container-id-1 label.sk-toggleable__label-arrow:before {content: \"▸\";float: left;margin-right: 0.25em;color: #696969;}#sk-container-id-1 label.sk-toggleable__label-arrow:hover:before {color: black;}#sk-container-id-1 div.sk-estimator:hover label.sk-toggleable__label-arrow:before {color: black;}#sk-container-id-1 div.sk-toggleable__content {max-height: 0;max-width: 0;overflow: hidden;text-align: left;background-color: #f0f8ff;}#sk-container-id-1 div.sk-toggleable__content pre {margin: 0.2em;color: black;border-radius: 0.25em;background-color: #f0f8ff;}#sk-container-id-1 input.sk-toggleable__control:checked~div.sk-toggleable__content {max-height: 200px;max-width: 100%;overflow: auto;}#sk-container-id-1 input.sk-toggleable__control:checked~label.sk-toggleable__label-arrow:before {content: \"▾\";}#sk-container-id-1 div.sk-estimator input.sk-toggleable__control:checked~label.sk-toggleable__label {background-color: #d4ebff;}#sk-container-id-1 div.sk-label input.sk-toggleable__control:checked~label.sk-toggleable__label {background-color: #d4ebff;}#sk-container-id-1 input.sk-hidden--visually {border: 0;clip: rect(1px 1px 1px 1px);clip: rect(1px, 1px, 1px, 1px);height: 1px;margin: -1px;overflow: hidden;padding: 0;position: absolute;width: 1px;}#sk-container-id-1 div.sk-estimator {font-family: monospace;background-color: #f0f8ff;border: 1px dotted black;border-radius: 0.25em;box-sizing: border-box;margin-bottom: 0.5em;}#sk-container-id-1 div.sk-estimator:hover {background-color: #d4ebff;}#sk-container-id-1 div.sk-parallel-item::after {content: \"\";width: 100%;border-bottom: 1px solid gray;flex-grow: 1;}#sk-container-id-1 div.sk-label:hover label.sk-toggleable__label {background-color: #d4ebff;}#sk-container-id-1 div.sk-serial::before {content: \"\";position: absolute;border-left: 1px solid gray;box-sizing: border-box;top: 0;bottom: 0;left: 50%;z-index: 0;}#sk-container-id-1 div.sk-serial {display: flex;flex-direction: column;align-items: center;background-color: white;padding-right: 0.2em;padding-left: 0.2em;position: relative;}#sk-container-id-1 div.sk-item {position: relative;z-index: 1;}#sk-container-id-1 div.sk-parallel {display: flex;align-items: stretch;justify-content: center;background-color: white;position: relative;}#sk-container-id-1 div.sk-item::before, #sk-container-id-1 div.sk-parallel-item::before {content: \"\";position: absolute;border-left: 1px solid gray;box-sizing: border-box;top: 0;bottom: 0;left: 50%;z-index: -1;}#sk-container-id-1 div.sk-parallel-item {display: flex;flex-direction: column;z-index: 1;position: relative;background-color: white;}#sk-container-id-1 div.sk-parallel-item:first-child::after {align-self: flex-end;width: 50%;}#sk-container-id-1 div.sk-parallel-item:last-child::after {align-self: flex-start;width: 50%;}#sk-container-id-1 div.sk-parallel-item:only-child::after {width: 0;}#sk-container-id-1 div.sk-dashed-wrapped {border: 1px dashed gray;margin: 0 0.4em 0.5em 0.4em;box-sizing: border-box;padding-bottom: 0.4em;background-color: white;}#sk-container-id-1 div.sk-label label {font-family: monospace;font-weight: bold;display: inline-block;line-height: 1.2em;}#sk-container-id-1 div.sk-label-container {text-align: center;}#sk-container-id-1 div.sk-container {/* jupyter's `normalize.less` sets `[hidden] { display: none; }` but bootstrap.min.css set `[hidden] { display: none !important; }` so we also need the `!important` here to be able to override the default hidden behavior on the sphinx rendered scikit-learn.org. See: https://github.com/scikit-learn/scikit-learn/issues/21755 */display: inline-block !important;position: relative;}#sk-container-id-1 div.sk-text-repr-fallback {display: none;}</style><div id=\"sk-container-id-1\" class=\"sk-top-container\"><div class=\"sk-text-repr-fallback\"><pre>MLPClassifier(alpha=0.001, hidden_layer_sizes=(256, 128, 32), max_iter=500,\n",
       "              random_state=0, tol=0.001)</pre><b>In a Jupyter environment, please rerun this cell to show the HTML representation or trust the notebook. <br />On GitHub, the HTML representation is unable to render, please try loading this page with nbviewer.org.</b></div><div class=\"sk-container\" hidden><div class=\"sk-item\"><div class=\"sk-estimator sk-toggleable\"><input class=\"sk-toggleable__control sk-hidden--visually\" id=\"sk-estimator-id-1\" type=\"checkbox\" checked><label for=\"sk-estimator-id-1\" class=\"sk-toggleable__label sk-toggleable__label-arrow\">MLPClassifier</label><div class=\"sk-toggleable__content\"><pre>MLPClassifier(alpha=0.001, hidden_layer_sizes=(256, 128, 32), max_iter=500,\n",
       "              random_state=0, tol=0.001)</pre></div></div></div></div></div>"
      ],
      "text/plain": [
       "MLPClassifier(alpha=0.001, hidden_layer_sizes=(256, 128, 32), max_iter=500,\n",
       "              random_state=0, tol=0.001)"
      ]
     },
     "execution_count": 21,
     "metadata": {},
     "output_type": "execute_result"
    }
   ],
   "source": [
    "mlp_digits_model.fit(X_train,y_train)"
   ]
  },
  {
   "cell_type": "markdown",
   "id": "0130197b",
   "metadata": {},
   "source": [
    "## Plotting the loss during training "
   ]
  },
  {
   "cell_type": "code",
   "execution_count": 22,
   "id": "a88c8353",
   "metadata": {},
   "outputs": [],
   "source": [
    "loss_values = mlp_digits_model.loss_curve_"
   ]
  },
  {
   "cell_type": "code",
   "execution_count": 23,
   "id": "39277c05",
   "metadata": {},
   "outputs": [
    {
     "data": {
      "text/plain": [
       "Text(0.5, 1.0, 'Loss Values')"
      ]
     },
     "execution_count": 23,
     "metadata": {},
     "output_type": "execute_result"
    },
    {
     "data": {
      "image/png": "[encoded data removed]",
      "text/plain": [
       "<Figure size 640x480 with 1 Axes>"
      ]
     },
     "metadata": {},
     "output_type": "display_data"
    }
   ],
   "source": [
    "plt.hist(loss_values)\n",
    "plt.xlabel('Loss Values')\n",
    "plt.ylabel('Number of Losses');\n",
    "plt.title('Loss Values')"
   ]
  },
  {
   "cell_type": "markdown",
   "id": "f9d12599",
   "metadata": {},
   "source": [
    "# Evaluating MLPClassifier Model"
   ]
  },
  {
   "cell_type": "markdown",
   "id": "bc2db416",
   "metadata": {},
   "source": [
    "### Model Performance - Predictions"
   ]
  },
  {
   "cell_type": "code",
   "execution_count": 24,
   "id": "200f1a46",
   "metadata": {},
   "outputs": [
    {
     "name": "stdout",
     "output_type": "stream",
     "text": [
      "Test set predictions:\n",
      " [2 8 2 6 6 7 1 9 8 5 2 8 6 6 6 6 1 0 5 8 8 7 8 4 7 5 4 9 2 9 4 7 6 8 9 4 3\n",
      " 1 0 1 8 6 7 7 1 0 7 6 2 1 9 6 7 9 0 0 5 1 6 3 0 2 3 4 1 9 2 6 9 1 8 3 5 1\n",
      " 2 8 2 2 9 7 2 3 6 0 5 3 7 5 1 2 9 9 3 1 4 7 4 8 5 8 5 5 2 5 9 0 7 1 4 4 3\n",
      " 4 8 9 7 9 8 2 1 5 2 5 8 4 1 7 0 6 1 5 5 9 9 5 9 9 5 7 5 6 2 8 6 9 6 1 5 1\n",
      " 5 9 9 1 5 3 6 1 8 9 8 7 6 7 6 5 6 0 8 8 9 8 6 1 0 4 1 6 3 8 6 7 4 9 6 3 0\n",
      " 3 3 3 0 7 7 5 7 8 0 7 1 9 6 4 5 0 1 4 6 4 3 3 0 9 5 9 2 1 4 2 1 6 8 9 2 4\n",
      " 9 3 7 6 2 3 3 1 6 9 3 6 3 2 2 0 7 6 1 1 9 7 2 7 8 5 5 7 5 2 3 7 2 7 5 5 7\n",
      " 0 9 1 6 5 9 7 4 3 8 0 3 6 4 6 3 2 6 8 8 8 4 6 7 5 2 4 5 3 2 4 6 9 4 5 4 3\n",
      " 4 6 2 9 0 1 7 2 0 9 6 0 4 2 0 7 9 8 5 4 8 2 8 4 3 7 2 6 9 1 5 1 0 8 2 6 9\n",
      " 5 6 8 2 7 2 1 5 1 6 4 5 0 9 4 1 1 7 0 8 9 0 5 4 3 8 8 6 5 3 4 4 4 8 8 7 0\n",
      " 9 6 3 5 2 3 0 8 2 3 1 3 3 0 0 4 6 0 7 7 6 2 0 4 4 2 3 7 1 9 8 6 8 5 6 2 2\n",
      " 3 1 7 7 8 0 3 3 2 1 5 5 9 1 3 7 0 0 7 0 4 5 9 3 3 4 3 1 8 9 5 3 6 2 1 6 2\n",
      " 1 7 5 5 1 9]\n"
     ]
    }
   ],
   "source": [
    "y_pred = mlp_digits_model.predict(X_test)\n",
    "print(\"Test set predictions:\\n {}\".format(y_pred))"
   ]
  },
  {
   "cell_type": "markdown",
   "id": "f65e9438",
   "metadata": {},
   "source": [
    "### Model Performance - Accuracy "
   ]
  },
  {
   "cell_type": "code",
   "execution_count": 25,
   "id": "ad657a44",
   "metadata": {},
   "outputs": [
    {
     "name": "stdout",
     "output_type": "stream",
     "text": [
      "Test set score using NumPy: 0.98\n"
     ]
    }
   ],
   "source": [
    "print(\"Test set score using NumPy: {0:0.2f}\".format(np.mean(y_pred==y_test)))"
   ]
  },
  {
   "cell_type": "code",
   "execution_count": 26,
   "id": "71d32037",
   "metadata": {},
   "outputs": [
    {
     "name": "stdout",
     "output_type": "stream",
     "text": [
      "Test set score(accuracy on test set): 0.98\n"
     ]
    }
   ],
   "source": [
    "#Another way of doing it \n",
    "print(\"Test set score(accuracy on test set): {0:0.2f}\".format(mlp_digits_model.score(X_test,y_test)))"
   ]
  },
  {
   "cell_type": "markdown",
   "id": "785acb40",
   "metadata": {},
   "source": [
    "### Model Peformance - Errors "
   ]
  },
  {
   "cell_type": "code",
   "execution_count": 27,
   "id": "ec89b6ae",
   "metadata": {},
   "outputs": [],
   "source": [
    "error_mask = y_pred !=y_test"
   ]
  },
  {
   "cell_type": "code",
   "execution_count": 28,
   "id": "c734dc51",
   "metadata": {},
   "outputs": [
    {
     "data": {
      "image/png": "[encoded data removed]",
      "text/plain": [
       "<Figure size 640x480 with 5 Axes>"
      ]
     },
     "metadata": {},
     "output_type": "display_data"
    }
   ],
   "source": [
    "plot_example(X_test[error_mask], y_pred[error_mask])"
   ]
  },
  {
   "cell_type": "markdown",
   "id": "105a6f22",
   "metadata": {},
   "source": [
    "# Classification Report & Confusion Matrix"
   ]
  },
  {
   "cell_type": "markdown",
   "id": "106ba1ae",
   "metadata": {},
   "source": [
    "### Classification Report "
   ]
  },
  {
   "cell_type": "code",
   "execution_count": 29,
   "id": "8be30a2e",
   "metadata": {},
   "outputs": [
    {
     "name": "stdout",
     "output_type": "stream",
     "text": [
      "Classification Report:\n",
      "              precision    recall  f1-score   support\n",
      "\n",
      "           0       1.00      1.00      1.00        37\n",
      "           1       0.91      0.98      0.94        43\n",
      "           2       0.98      1.00      0.99        44\n",
      "           3       1.00      0.98      0.99        45\n",
      "           4       0.95      1.00      0.97        38\n",
      "           5       0.96      0.98      0.97        48\n",
      "           6       0.98      0.98      0.98        52\n",
      "           7       1.00      0.96      0.98        48\n",
      "           8       1.00      0.92      0.96        48\n",
      "           9       0.98      0.98      0.98        47\n",
      "\n",
      "    accuracy                           0.98       450\n",
      "   macro avg       0.98      0.98      0.98       450\n",
      "weighted avg       0.98      0.98      0.98       450\n",
      "\n"
     ]
    }
   ],
   "source": [
    "from sklearn import metrics\n",
    "print(\"Classification Report:\")\n",
    "print(metrics.classification_report(y_test,y_pred))"
   ]
  },
  {
   "cell_type": "markdown",
   "id": "f3bc12c6",
   "metadata": {},
   "source": [
    "### Confusion Matrix "
   ]
  },
  {
   "cell_type": "code",
   "execution_count": 30,
   "id": "55a62d16",
   "metadata": {},
   "outputs": [
    {
     "data": {
      "image/png": "[encoded data removed]",
      "text/plain": [
       "<Figure size 640x480 with 2 Axes>"
      ]
     },
     "metadata": {},
     "output_type": "display_data"
    }
   ],
   "source": [
    "import matplotlib.pyplot as plt\n",
    "from sklearn.metrics import confusion_matrix, ConfusionMatrixDisplay\n",
    "cm = confusion_matrix(y_test, y_pred, )\n",
    "disp = ConfusionMatrixDisplay(confusion_matrix=cm, )\n",
    "disp.plot()\n",
    "plt.show()"
   ]
  },
  {
   "cell_type": "markdown",
   "id": "f0c9291d",
   "metadata": {},
   "source": [
    "### Plotting Images and the Predictions "
   ]
  },
  {
   "cell_type": "code",
   "execution_count": 31,
   "id": "c39efd29",
   "metadata": {},
   "outputs": [
    {
     "data": {
      "image/png": "[encoded data removed]",
      "text/plain": [
       "<Figure size 640x480 with 4 Axes>"
      ]
     },
     "metadata": {},
     "output_type": "display_data"
    }
   ],
   "source": [
    "images_and_predictions = list(zip(X_test.reshape(len(X_test),8,8), y_pred))\n",
    "\n",
    "for index, (image,prediction) in enumerate(images_and_predictions[:4]):\n",
    "    plt.subplot(2,4,index+1)\n",
    "    plt.axis('off')\n",
    "    plt.imshow(image,cmap=plt.cm.gray_r, interpolation='nearest')\n",
    "    plt.title('Prediction: %i' % prediction)\n",
    "    \n",
    "plt.show()"
   ]
  },
  {
   "cell_type": "markdown",
   "id": "9cb8e19d",
   "metadata": {},
   "source": [
    " # Exercise 1"
   ]
  },
  {
   "cell_type": "markdown",
   "id": "b517adf8",
   "metadata": {},
   "source": [
    " Number 8 had the most misclassifications, often confused for the number 1. Therefore, this must be the hardest to classify"
   ]
  },
  {
   "cell_type": "markdown",
   "id": "ee213561",
   "metadata": {},
   "source": [
    "# Exercise 2\n"
   ]
  },
  {
   "cell_type": "code",
   "execution_count": 32,
   "id": "4574d0bd",
   "metadata": {},
   "outputs": [
    {
     "name": "stdout",
     "output_type": "stream",
     "text": [
      "Iteration 1, loss = 2.34510824\n",
      "Iteration 2, loss = 2.33240864\n",
      "Iteration 3, loss = 2.31411492\n",
      "Iteration 4, loss = 2.29412884\n",
      "Iteration 5, loss = 2.27622001\n",
      "Iteration 6, loss = 2.26048573\n",
      "Iteration 7, loss = 2.24595313\n",
      "Iteration 8, loss = 2.23222587\n",
      "Iteration 9, loss = 2.21855803\n",
      "Iteration 10, loss = 2.20488442\n",
      "Iteration 11, loss = 2.19092806\n",
      "Iteration 12, loss = 2.17681877\n",
      "Iteration 13, loss = 2.16264370\n",
      "Iteration 14, loss = 2.14822549\n",
      "Iteration 15, loss = 2.13370234\n",
      "Iteration 16, loss = 2.11880147\n",
      "Iteration 17, loss = 2.10383061\n",
      "Iteration 18, loss = 2.08864742\n",
      "Iteration 19, loss = 2.07353878\n",
      "Iteration 20, loss = 2.05819772\n",
      "Iteration 21, loss = 2.04268433\n",
      "Iteration 22, loss = 2.02716157\n",
      "Iteration 23, loss = 2.01147457\n",
      "Iteration 24, loss = 1.99555359\n",
      "Iteration 25, loss = 1.97946115\n",
      "Iteration 26, loss = 1.96329487\n",
      "Iteration 27, loss = 1.94671818\n",
      "Iteration 28, loss = 1.93007642\n",
      "Iteration 29, loss = 1.91303045\n",
      "Iteration 30, loss = 1.89574201\n",
      "Iteration 31, loss = 1.87829997\n",
      "Iteration 32, loss = 1.86040580\n",
      "Iteration 33, loss = 1.84248935\n",
      "Iteration 34, loss = 1.82411125\n",
      "Iteration 35, loss = 1.80551542\n",
      "Iteration 36, loss = 1.78673405\n",
      "Iteration 37, loss = 1.76760267\n",
      "Iteration 38, loss = 1.74824443\n",
      "Iteration 39, loss = 1.72850515\n",
      "Iteration 40, loss = 1.70843544\n",
      "Iteration 41, loss = 1.68799430\n",
      "Iteration 42, loss = 1.66739482\n",
      "Iteration 43, loss = 1.64638484\n",
      "Iteration 44, loss = 1.62507821\n",
      "Iteration 45, loss = 1.60357211\n",
      "Iteration 46, loss = 1.58141616\n",
      "Iteration 47, loss = 1.55890470\n",
      "Iteration 48, loss = 1.53637427\n",
      "Iteration 49, loss = 1.51353010\n",
      "Iteration 50, loss = 1.49028444\n",
      "Iteration 51, loss = 1.46679508\n",
      "Iteration 52, loss = 1.44306667\n",
      "Iteration 53, loss = 1.41916573\n",
      "Iteration 54, loss = 1.39489613\n",
      "Iteration 55, loss = 1.37059445\n",
      "Iteration 56, loss = 1.34618061\n",
      "Iteration 57, loss = 1.32149620\n",
      "Iteration 58, loss = 1.29675238\n",
      "Iteration 59, loss = 1.27191387\n",
      "Iteration 60, loss = 1.24735679\n",
      "Iteration 61, loss = 1.22240338\n",
      "Iteration 62, loss = 1.19765541\n",
      "Iteration 63, loss = 1.17322025\n",
      "Iteration 64, loss = 1.14858231\n",
      "Iteration 65, loss = 1.12457931\n",
      "Iteration 66, loss = 1.10036053\n",
      "Iteration 67, loss = 1.07674125\n",
      "Iteration 68, loss = 1.05325908\n",
      "Iteration 69, loss = 1.03026115\n",
      "Iteration 70, loss = 1.00737067\n",
      "Iteration 71, loss = 0.98541983\n",
      "Iteration 72, loss = 0.96330551\n",
      "Iteration 73, loss = 0.94197585\n",
      "Iteration 74, loss = 0.92122756\n",
      "Iteration 75, loss = 0.90092334\n",
      "Iteration 76, loss = 0.88104867\n",
      "Iteration 77, loss = 0.86190022\n",
      "Iteration 78, loss = 0.84322482\n",
      "Iteration 79, loss = 0.82539869\n",
      "Iteration 80, loss = 0.80764456\n",
      "Iteration 81, loss = 0.79082808\n",
      "Iteration 82, loss = 0.77407957\n",
      "Iteration 83, loss = 0.75819290\n",
      "Iteration 84, loss = 0.74278329\n",
      "Iteration 85, loss = 0.72778687\n",
      "Iteration 86, loss = 0.71310800\n",
      "Iteration 87, loss = 0.69911707\n",
      "Iteration 88, loss = 0.68569936\n",
      "Iteration 89, loss = 0.67260617\n",
      "Iteration 90, loss = 0.66007059\n",
      "Iteration 91, loss = 0.64766026\n",
      "Iteration 92, loss = 0.63560434\n",
      "Iteration 93, loss = 0.62410902\n",
      "Iteration 94, loss = 0.61307211\n",
      "Iteration 95, loss = 0.60233380\n",
      "Iteration 96, loss = 0.59197440\n",
      "Iteration 97, loss = 0.58167322\n",
      "Iteration 98, loss = 0.57183363\n",
      "Iteration 99, loss = 0.56228094\n",
      "Iteration 100, loss = 0.55306350\n",
      "Iteration 101, loss = 0.54401790\n",
      "Iteration 102, loss = 0.53547932\n",
      "Iteration 103, loss = 0.52697392\n",
      "Iteration 104, loss = 0.51882339\n",
      "Iteration 105, loss = 0.51095799\n",
      "Iteration 106, loss = 0.50319105\n",
      "Iteration 107, loss = 0.49579255\n",
      "Iteration 108, loss = 0.48854601\n",
      "Iteration 109, loss = 0.48132193\n",
      "Iteration 110, loss = 0.47448252\n",
      "Iteration 111, loss = 0.46768658\n",
      "Iteration 112, loss = 0.46136480\n",
      "Iteration 113, loss = 0.45479776\n",
      "Iteration 114, loss = 0.44867204\n",
      "Iteration 115, loss = 0.44271330\n",
      "Iteration 116, loss = 0.43679453\n",
      "Iteration 117, loss = 0.43110717\n",
      "Iteration 118, loss = 0.42550307\n",
      "Iteration 119, loss = 0.42018965\n",
      "Iteration 120, loss = 0.41499347\n",
      "Iteration 121, loss = 0.40973223\n",
      "Iteration 122, loss = 0.40458926\n",
      "Iteration 123, loss = 0.39952922\n",
      "Iteration 124, loss = 0.39474955\n",
      "Iteration 125, loss = 0.38998775\n",
      "Iteration 126, loss = 0.38543131\n",
      "Iteration 127, loss = 0.38114538\n",
      "Iteration 128, loss = 0.37629005\n",
      "Iteration 129, loss = 0.37225694\n",
      "Iteration 130, loss = 0.36791208\n",
      "Iteration 131, loss = 0.36370697\n",
      "Iteration 132, loss = 0.35974549\n",
      "Iteration 133, loss = 0.35564234\n",
      "Iteration 134, loss = 0.35179569\n",
      "Iteration 135, loss = 0.34797570\n",
      "Iteration 136, loss = 0.34420020\n",
      "Iteration 137, loss = 0.34046309\n",
      "Iteration 138, loss = 0.33685571\n",
      "Iteration 139, loss = 0.33360918\n",
      "Iteration 140, loss = 0.33006708\n",
      "Iteration 141, loss = 0.32681286\n",
      "Iteration 142, loss = 0.32337962\n",
      "Iteration 143, loss = 0.32024456\n",
      "Iteration 144, loss = 0.31708498\n",
      "Iteration 145, loss = 0.31387722\n",
      "Iteration 146, loss = 0.31097807\n",
      "Iteration 147, loss = 0.30796175\n",
      "Iteration 148, loss = 0.30496596\n",
      "Iteration 149, loss = 0.30213071\n",
      "Iteration 150, loss = 0.29933747\n",
      "Iteration 151, loss = 0.29660199\n",
      "Iteration 152, loss = 0.29391519\n",
      "Iteration 153, loss = 0.29113460\n",
      "Iteration 154, loss = 0.28859424\n",
      "Iteration 155, loss = 0.28617094\n",
      "Iteration 156, loss = 0.28330495\n",
      "Iteration 157, loss = 0.28116923\n",
      "Iteration 158, loss = 0.27869633\n",
      "Iteration 159, loss = 0.27625990\n",
      "Iteration 160, loss = 0.27395586\n",
      "Iteration 161, loss = 0.27168720\n",
      "Iteration 162, loss = 0.26960004\n",
      "Iteration 163, loss = 0.26713851\n",
      "Iteration 164, loss = 0.26493545\n",
      "Iteration 165, loss = 0.26288693\n",
      "Iteration 166, loss = 0.26074769\n",
      "Iteration 167, loss = 0.25901486\n",
      "Iteration 168, loss = 0.25664352\n",
      "Iteration 169, loss = 0.25483620\n",
      "Iteration 170, loss = 0.25295595\n",
      "Iteration 171, loss = 0.25104249\n",
      "Iteration 172, loss = 0.24902645\n",
      "Iteration 173, loss = 0.24716912\n",
      "Iteration 174, loss = 0.24525930\n",
      "Iteration 175, loss = 0.24349951\n",
      "Iteration 176, loss = 0.24159843\n",
      "Iteration 177, loss = 0.23994276\n",
      "Iteration 178, loss = 0.23821275\n",
      "Iteration 179, loss = 0.23650537\n",
      "Iteration 180, loss = 0.23484332\n",
      "Iteration 181, loss = 0.23338574\n",
      "Iteration 182, loss = 0.23162743\n",
      "Iteration 183, loss = 0.22995582\n",
      "Iteration 184, loss = 0.22838016\n",
      "Iteration 185, loss = 0.22675116\n",
      "Iteration 186, loss = 0.22537286\n",
      "Iteration 187, loss = 0.22399095\n",
      "Iteration 188, loss = 0.22250046\n",
      "Iteration 189, loss = 0.22080744\n",
      "Iteration 190, loss = 0.21936192\n",
      "Iteration 191, loss = 0.21790537\n",
      "Iteration 192, loss = 0.21654693\n",
      "Iteration 193, loss = 0.21510769\n",
      "Iteration 194, loss = 0.21377318\n",
      "Iteration 195, loss = 0.21238406\n",
      "Iteration 196, loss = 0.21106529\n",
      "Iteration 197, loss = 0.21016422\n",
      "Iteration 198, loss = 0.20834706\n",
      "Iteration 199, loss = 0.20747363\n",
      "Iteration 200, loss = 0.20621228\n",
      "Iteration 201, loss = 0.20475344\n",
      "Iteration 202, loss = 0.20341137\n",
      "Iteration 203, loss = 0.20225424\n",
      "Iteration 204, loss = 0.20089343\n",
      "Iteration 205, loss = 0.19978435\n",
      "Iteration 206, loss = 0.19870737\n",
      "Iteration 207, loss = 0.19777580\n",
      "Iteration 208, loss = 0.19626076\n",
      "Iteration 209, loss = 0.19529180\n",
      "Iteration 210, loss = 0.19413815\n",
      "Iteration 211, loss = 0.19332715\n",
      "Iteration 212, loss = 0.19198881\n",
      "Iteration 213, loss = 0.19084519\n",
      "Iteration 214, loss = 0.18989117\n",
      "Iteration 215, loss = 0.18885305\n",
      "Iteration 216, loss = 0.18778318\n",
      "Iteration 217, loss = 0.18666437\n",
      "Iteration 218, loss = 0.18564861\n",
      "Iteration 219, loss = 0.18475699\n",
      "Iteration 220, loss = 0.18368209\n",
      "Iteration 221, loss = 0.18283736\n",
      "Iteration 222, loss = 0.18191935\n",
      "Iteration 223, loss = 0.18081991\n",
      "Iteration 224, loss = 0.17997677\n",
      "Iteration 225, loss = 0.17891154\n",
      "Iteration 226, loss = 0.17813751\n",
      "Iteration 227, loss = 0.17722994\n",
      "Iteration 228, loss = 0.17622599\n",
      "Iteration 229, loss = 0.17540364\n",
      "Iteration 230, loss = 0.17483760\n",
      "Iteration 231, loss = 0.17371255\n",
      "Iteration 232, loss = 0.17286631\n",
      "Iteration 233, loss = 0.17193421\n",
      "Iteration 234, loss = 0.17104009\n",
      "Iteration 235, loss = 0.17054064\n",
      "Iteration 236, loss = 0.16951628\n",
      "Iteration 237, loss = 0.16867769\n",
      "Iteration 238, loss = 0.16798690\n",
      "Iteration 239, loss = 0.16699844\n",
      "Iteration 240, loss = 0.16633851\n",
      "Iteration 241, loss = 0.16561229\n",
      "Iteration 242, loss = 0.16484847\n",
      "Iteration 243, loss = 0.16393764\n",
      "Iteration 244, loss = 0.16314210\n",
      "Iteration 245, loss = 0.16268677\n",
      "Iteration 246, loss = 0.16196859\n",
      "Iteration 247, loss = 0.16099830\n",
      "Iteration 248, loss = 0.16028431\n",
      "Iteration 249, loss = 0.15957441\n",
      "Iteration 250, loss = 0.15902022\n",
      "Iteration 251, loss = 0.15822639\n",
      "Iteration 252, loss = 0.15745027\n"
     ]
    },
    {
     "name": "stdout",
     "output_type": "stream",
     "text": [
      "Iteration 253, loss = 0.15674006\n",
      "Iteration 254, loss = 0.15600407\n",
      "Iteration 255, loss = 0.15529558\n",
      "Iteration 256, loss = 0.15462519\n",
      "Iteration 257, loss = 0.15400389\n",
      "Iteration 258, loss = 0.15351353\n",
      "Iteration 259, loss = 0.15280500\n",
      "Iteration 260, loss = 0.15198479\n",
      "Iteration 261, loss = 0.15143490\n",
      "Iteration 262, loss = 0.15081248\n",
      "Iteration 263, loss = 0.15013282\n",
      "Iteration 264, loss = 0.14938728\n",
      "Iteration 265, loss = 0.14894418\n",
      "Iteration 266, loss = 0.14821347\n",
      "Iteration 267, loss = 0.14767475\n",
      "Iteration 268, loss = 0.14694972\n",
      "Iteration 269, loss = 0.14651043\n",
      "Iteration 270, loss = 0.14600851\n",
      "Iteration 271, loss = 0.14520108\n",
      "Iteration 272, loss = 0.14451705\n",
      "Iteration 273, loss = 0.14403534\n",
      "Iteration 274, loss = 0.14340330\n",
      "Iteration 275, loss = 0.14297046\n",
      "Iteration 276, loss = 0.14253122\n",
      "Iteration 277, loss = 0.14170513\n",
      "Iteration 278, loss = 0.14119391\n",
      "Iteration 279, loss = 0.14060416\n",
      "Iteration 280, loss = 0.14005168\n",
      "Iteration 281, loss = 0.13954510\n",
      "Iteration 282, loss = 0.13903127\n",
      "Iteration 283, loss = 0.13839510\n",
      "Iteration 284, loss = 0.13782359\n",
      "Iteration 285, loss = 0.13759683\n",
      "Iteration 286, loss = 0.13704351\n",
      "Iteration 287, loss = 0.13643835\n",
      "Iteration 288, loss = 0.13599116\n",
      "Iteration 289, loss = 0.13530514\n",
      "Iteration 290, loss = 0.13494807\n",
      "Iteration 291, loss = 0.13439179\n",
      "Iteration 292, loss = 0.13381965\n",
      "Iteration 293, loss = 0.13355685\n",
      "Iteration 294, loss = 0.13282531\n",
      "Iteration 295, loss = 0.13232715\n",
      "Iteration 296, loss = 0.13179855\n",
      "Iteration 297, loss = 0.13137399\n",
      "Iteration 298, loss = 0.13091350\n",
      "Iteration 299, loss = 0.13033955\n",
      "Iteration 300, loss = 0.13000643\n",
      "Iteration 301, loss = 0.12940631\n",
      "Iteration 302, loss = 0.12893613\n",
      "Iteration 303, loss = 0.12844795\n",
      "Iteration 304, loss = 0.12809227\n",
      "Iteration 305, loss = 0.12758799\n",
      "Iteration 306, loss = 0.12722841\n",
      "Iteration 307, loss = 0.12660537\n",
      "Iteration 308, loss = 0.12620495\n",
      "Iteration 309, loss = 0.12588465\n",
      "Iteration 310, loss = 0.12528798\n",
      "Iteration 311, loss = 0.12488590\n",
      "Iteration 312, loss = 0.12447454\n",
      "Iteration 313, loss = 0.12398244\n",
      "Iteration 314, loss = 0.12355969\n",
      "Iteration 315, loss = 0.12311364\n",
      "Iteration 316, loss = 0.12281710\n",
      "Iteration 317, loss = 0.12238406\n",
      "Iteration 318, loss = 0.12197067\n",
      "Iteration 319, loss = 0.12172956\n",
      "Iteration 320, loss = 0.12104912\n",
      "Iteration 321, loss = 0.12072489\n",
      "Iteration 322, loss = 0.12026857\n",
      "Iteration 323, loss = 0.11985169\n",
      "Iteration 324, loss = 0.11942426\n",
      "Iteration 325, loss = 0.11921534\n",
      "Iteration 326, loss = 0.11875373\n",
      "Iteration 327, loss = 0.11824220\n",
      "Iteration 328, loss = 0.11800495\n",
      "Iteration 329, loss = 0.11754447\n",
      "Iteration 330, loss = 0.11711607\n",
      "Iteration 331, loss = 0.11679575\n",
      "Iteration 332, loss = 0.11633655\n",
      "Iteration 333, loss = 0.11592680\n",
      "Iteration 334, loss = 0.11559816\n",
      "Iteration 335, loss = 0.11518370\n",
      "Iteration 336, loss = 0.11482914\n",
      "Iteration 337, loss = 0.11469755\n",
      "Iteration 338, loss = 0.11414879\n",
      "Iteration 339, loss = 0.11365301\n",
      "Iteration 340, loss = 0.11332342\n",
      "Iteration 341, loss = 0.11293950\n",
      "Iteration 342, loss = 0.11278704\n",
      "Iteration 343, loss = 0.11235847\n",
      "Iteration 344, loss = 0.11192789\n",
      "Iteration 345, loss = 0.11153021\n",
      "Iteration 346, loss = 0.11121626\n",
      "Iteration 347, loss = 0.11086478\n",
      "Iteration 348, loss = 0.11053268\n",
      "Iteration 349, loss = 0.11035124\n",
      "Iteration 350, loss = 0.10988013\n",
      "Iteration 351, loss = 0.10957116\n",
      "Iteration 352, loss = 0.10933443\n",
      "Iteration 353, loss = 0.10881392\n",
      "Iteration 354, loss = 0.10859217\n",
      "Iteration 355, loss = 0.10827702\n",
      "Iteration 356, loss = 0.10790013\n",
      "Iteration 357, loss = 0.10762830\n",
      "Iteration 358, loss = 0.10724547\n",
      "Iteration 359, loss = 0.10694685\n",
      "Iteration 360, loss = 0.10652309\n",
      "Iteration 361, loss = 0.10621900\n",
      "Iteration 362, loss = 0.10598157\n",
      "Iteration 363, loss = 0.10560976\n",
      "Iteration 364, loss = 0.10547906\n",
      "Iteration 365, loss = 0.10503343\n",
      "Iteration 366, loss = 0.10471475\n",
      "Iteration 367, loss = 0.10434186\n",
      "Iteration 368, loss = 0.10415934\n",
      "Iteration 369, loss = 0.10373190\n",
      "Iteration 370, loss = 0.10348416\n",
      "Iteration 371, loss = 0.10323921\n",
      "Iteration 372, loss = 0.10285900\n",
      "Iteration 373, loss = 0.10259213\n",
      "Iteration 374, loss = 0.10226966\n",
      "Iteration 375, loss = 0.10199439\n",
      "Iteration 376, loss = 0.10169991\n",
      "Iteration 377, loss = 0.10136660\n",
      "Iteration 378, loss = 0.10115798\n",
      "Iteration 379, loss = 0.10095857\n",
      "Iteration 380, loss = 0.10058129\n",
      "Iteration 381, loss = 0.10020909\n",
      "Iteration 382, loss = 0.09996063\n",
      "Iteration 383, loss = 0.09975997\n",
      "Iteration 384, loss = 0.09939691\n",
      "Iteration 385, loss = 0.09914440\n",
      "Iteration 386, loss = 0.09877693\n",
      "Iteration 387, loss = 0.09863932\n",
      "Iteration 388, loss = 0.09817726\n",
      "Iteration 389, loss = 0.09798093\n",
      "Iteration 390, loss = 0.09763793\n",
      "Iteration 391, loss = 0.09749098\n",
      "Iteration 392, loss = 0.09728903\n",
      "Iteration 393, loss = 0.09684971\n",
      "Iteration 394, loss = 0.09679877\n",
      "Iteration 395, loss = 0.09633259\n",
      "Iteration 396, loss = 0.09606445\n",
      "Iteration 397, loss = 0.09585544\n",
      "Iteration 398, loss = 0.09557573\n",
      "Iteration 399, loss = 0.09532309\n",
      "Iteration 400, loss = 0.09505935\n",
      "Iteration 401, loss = 0.09480003\n",
      "Iteration 402, loss = 0.09460784\n",
      "Iteration 403, loss = 0.09427545\n",
      "Iteration 404, loss = 0.09391066\n",
      "Iteration 405, loss = 0.09374118\n",
      "Iteration 406, loss = 0.09361536\n",
      "Iteration 407, loss = 0.09322974\n",
      "Iteration 408, loss = 0.09295783\n",
      "Iteration 409, loss = 0.09279771\n",
      "Iteration 410, loss = 0.09251204\n",
      "Iteration 411, loss = 0.09225207\n",
      "Iteration 412, loss = 0.09204888\n",
      "Iteration 413, loss = 0.09176362\n",
      "Iteration 414, loss = 0.09146695\n",
      "Iteration 415, loss = 0.09136296\n",
      "Iteration 416, loss = 0.09092682\n",
      "Iteration 417, loss = 0.09083354\n",
      "Iteration 418, loss = 0.09058280\n",
      "Iteration 419, loss = 0.09033168\n",
      "Iteration 420, loss = 0.09005062\n",
      "Iteration 421, loss = 0.08980409\n",
      "Iteration 422, loss = 0.08953897\n",
      "Iteration 423, loss = 0.08939050\n",
      "Iteration 424, loss = 0.08909412\n",
      "Iteration 425, loss = 0.08886072\n",
      "Iteration 426, loss = 0.08876171\n",
      "Iteration 427, loss = 0.08850101\n",
      "Iteration 428, loss = 0.08819238\n",
      "Iteration 429, loss = 0.08794088\n",
      "Iteration 430, loss = 0.08779784\n",
      "Iteration 431, loss = 0.08770481\n",
      "Iteration 432, loss = 0.08720443\n",
      "Iteration 433, loss = 0.08709080\n",
      "Iteration 434, loss = 0.08689073\n",
      "Iteration 435, loss = 0.08677868\n",
      "Iteration 436, loss = 0.08643213\n",
      "Iteration 437, loss = 0.08631542\n",
      "Iteration 438, loss = 0.08600536\n",
      "Iteration 439, loss = 0.08586746\n",
      "Iteration 440, loss = 0.08556800\n",
      "Iteration 441, loss = 0.08539848\n",
      "Iteration 442, loss = 0.08508438\n",
      "Iteration 443, loss = 0.08504541\n",
      "Iteration 444, loss = 0.08473486\n",
      "Iteration 445, loss = 0.08447921\n",
      "Iteration 446, loss = 0.08425369\n",
      "Iteration 447, loss = 0.08415137\n",
      "Iteration 448, loss = 0.08403914\n",
      "Iteration 449, loss = 0.08365530\n",
      "Iteration 450, loss = 0.08356729\n",
      "Iteration 451, loss = 0.08329431\n",
      "Iteration 452, loss = 0.08298186\n",
      "Iteration 453, loss = 0.08279450\n",
      "Iteration 454, loss = 0.08268666\n",
      "Iteration 455, loss = 0.08238353\n",
      "Iteration 456, loss = 0.08226508\n",
      "Iteration 457, loss = 0.08202498\n",
      "Iteration 458, loss = 0.08180426\n",
      "Iteration 459, loss = 0.08157656\n",
      "Iteration 460, loss = 0.08141568\n",
      "Iteration 461, loss = 0.08122538\n",
      "Iteration 462, loss = 0.08104981\n",
      "Iteration 463, loss = 0.08096143\n",
      "Iteration 464, loss = 0.08087764\n",
      "Iteration 465, loss = 0.08046322\n",
      "Iteration 466, loss = 0.08036921\n",
      "Iteration 467, loss = 0.08008858\n",
      "Iteration 468, loss = 0.07995888\n",
      "Iteration 469, loss = 0.07972676\n",
      "Iteration 470, loss = 0.07953261\n",
      "Iteration 471, loss = 0.07933029\n",
      "Iteration 472, loss = 0.07907527\n",
      "Iteration 473, loss = 0.07903385\n",
      "Iteration 474, loss = 0.07884167\n",
      "Iteration 475, loss = 0.07853964\n",
      "Iteration 476, loss = 0.07843302\n",
      "Iteration 477, loss = 0.07821319\n",
      "Iteration 478, loss = 0.07803131\n",
      "Iteration 479, loss = 0.07784802\n",
      "Iteration 480, loss = 0.07766156\n",
      "Iteration 481, loss = 0.07750197\n",
      "Iteration 482, loss = 0.07730737\n",
      "Iteration 483, loss = 0.07711194\n",
      "Iteration 484, loss = 0.07711552\n",
      "Iteration 485, loss = 0.07679771\n",
      "Iteration 486, loss = 0.07667699\n",
      "Iteration 487, loss = 0.07635854\n",
      "Iteration 488, loss = 0.07634327\n",
      "Iteration 489, loss = 0.07605077\n",
      "Iteration 490, loss = 0.07593395\n",
      "Iteration 491, loss = 0.07570468\n",
      "Iteration 492, loss = 0.07550244\n",
      "Iteration 493, loss = 0.07534188\n",
      "Iteration 494, loss = 0.07532841\n",
      "Iteration 495, loss = 0.07504367\n",
      "Iteration 496, loss = 0.07482780\n",
      "Iteration 497, loss = 0.07469504\n",
      "Iteration 498, loss = 0.07463994\n",
      "Iteration 499, loss = 0.07451283\n",
      "Iteration 500, loss = 0.07424764\n",
      "Iteration 501, loss = 0.07407353\n",
      "Iteration 502, loss = 0.07394257\n",
      "Iteration 503, loss = 0.07369591\n",
      "Iteration 504, loss = 0.07360362\n",
      "Iteration 505, loss = 0.07336175\n",
      "Iteration 506, loss = 0.07320586\n"
     ]
    },
    {
     "name": "stdout",
     "output_type": "stream",
     "text": [
      "Iteration 507, loss = 0.07310864\n",
      "Iteration 508, loss = 0.07290794\n",
      "Iteration 509, loss = 0.07296148\n",
      "Iteration 510, loss = 0.07250942\n",
      "Iteration 511, loss = 0.07247299\n",
      "Iteration 512, loss = 0.07224640\n",
      "Iteration 513, loss = 0.07204764\n",
      "Iteration 514, loss = 0.07200311\n",
      "Iteration 515, loss = 0.07182285\n",
      "Iteration 516, loss = 0.07159271\n",
      "Iteration 517, loss = 0.07152852\n",
      "Iteration 518, loss = 0.07129154\n",
      "Iteration 519, loss = 0.07126216\n",
      "Iteration 520, loss = 0.07099489\n",
      "Iteration 521, loss = 0.07086049\n",
      "Iteration 522, loss = 0.07071900\n",
      "Iteration 523, loss = 0.07054692\n",
      "Iteration 524, loss = 0.07040895\n",
      "Iteration 525, loss = 0.07020047\n",
      "Iteration 526, loss = 0.07010545\n",
      "Iteration 527, loss = 0.06985761\n",
      "Iteration 528, loss = 0.06978296\n",
      "Iteration 529, loss = 0.06965513\n",
      "Iteration 530, loss = 0.06951313\n",
      "Iteration 531, loss = 0.06935979\n",
      "Iteration 532, loss = 0.06919294\n",
      "Iteration 533, loss = 0.06906493\n",
      "Iteration 534, loss = 0.06895709\n",
      "Iteration 535, loss = 0.06877597\n",
      "Iteration 536, loss = 0.06864811\n",
      "Iteration 537, loss = 0.06848555\n",
      "Iteration 538, loss = 0.06835774\n",
      "Iteration 539, loss = 0.06823777\n",
      "Iteration 540, loss = 0.06796821\n",
      "Iteration 541, loss = 0.06791703\n",
      "Iteration 542, loss = 0.06772094\n",
      "Iteration 543, loss = 0.06761552\n",
      "Iteration 544, loss = 0.06750209\n",
      "Iteration 545, loss = 0.06744705\n",
      "Iteration 546, loss = 0.06721190\n",
      "Iteration 547, loss = 0.06723478\n",
      "Iteration 548, loss = 0.06692355\n",
      "Iteration 549, loss = 0.06679011\n",
      "Iteration 550, loss = 0.06664753\n",
      "Iteration 551, loss = 0.06651060\n",
      "Iteration 552, loss = 0.06626101\n",
      "Iteration 553, loss = 0.06615659\n",
      "Iteration 554, loss = 0.06599149\n",
      "Iteration 555, loss = 0.06597811\n",
      "Iteration 556, loss = 0.06580575\n",
      "Iteration 557, loss = 0.06580721\n",
      "Iteration 558, loss = 0.06548411\n",
      "Iteration 559, loss = 0.06555671\n",
      "Iteration 560, loss = 0.06527420\n",
      "Iteration 561, loss = 0.06519533\n",
      "Iteration 562, loss = 0.06499592\n",
      "Iteration 563, loss = 0.06494526\n",
      "Iteration 564, loss = 0.06479094\n",
      "Iteration 565, loss = 0.06468886\n",
      "Iteration 566, loss = 0.06458733\n",
      "Iteration 567, loss = 0.06435834\n",
      "Iteration 568, loss = 0.06421486\n",
      "Iteration 569, loss = 0.06413032\n",
      "Iteration 570, loss = 0.06401563\n",
      "Iteration 571, loss = 0.06380681\n",
      "Iteration 572, loss = 0.06373032\n",
      "Iteration 573, loss = 0.06358747\n",
      "Iteration 574, loss = 0.06358783\n",
      "Iteration 575, loss = 0.06332291\n",
      "Iteration 576, loss = 0.06313962\n",
      "Iteration 577, loss = 0.06305497\n",
      "Iteration 578, loss = 0.06300989\n",
      "Iteration 579, loss = 0.06288216\n",
      "Iteration 580, loss = 0.06262983\n",
      "Iteration 581, loss = 0.06255577\n",
      "Iteration 582, loss = 0.06257329\n",
      "Iteration 583, loss = 0.06230800\n",
      "Iteration 584, loss = 0.06223644\n",
      "Iteration 585, loss = 0.06215569\n",
      "Iteration 586, loss = 0.06200556\n",
      "Iteration 587, loss = 0.06178922\n",
      "Iteration 588, loss = 0.06172315\n",
      "Iteration 589, loss = 0.06169969\n",
      "Iteration 590, loss = 0.06154862\n",
      "Iteration 591, loss = 0.06142148\n",
      "Iteration 592, loss = 0.06130263\n",
      "Iteration 593, loss = 0.06111580\n",
      "Iteration 594, loss = 0.06097875\n",
      "Iteration 595, loss = 0.06095849\n",
      "Iteration 596, loss = 0.06073004\n",
      "Iteration 597, loss = 0.06071511\n",
      "Iteration 598, loss = 0.06053331\n",
      "Iteration 599, loss = 0.06042168\n",
      "Iteration 600, loss = 0.06027591\n",
      "Iteration 601, loss = 0.06016812\n",
      "Iteration 602, loss = 0.06007246\n",
      "Iteration 603, loss = 0.05992358\n",
      "Iteration 604, loss = 0.05987742\n",
      "Iteration 605, loss = 0.05972133\n",
      "Iteration 606, loss = 0.05966394\n",
      "Iteration 607, loss = 0.05951587\n",
      "Iteration 608, loss = 0.05954141\n",
      "Iteration 609, loss = 0.05938193\n",
      "Iteration 610, loss = 0.05919757\n",
      "Iteration 611, loss = 0.05909311\n",
      "Iteration 612, loss = 0.05891621\n",
      "Iteration 613, loss = 0.05884617\n",
      "Iteration 614, loss = 0.05878614\n",
      "Iteration 615, loss = 0.05867664\n",
      "Iteration 616, loss = 0.05863662\n",
      "Iteration 617, loss = 0.05844460\n",
      "Iteration 618, loss = 0.05838853\n",
      "Iteration 619, loss = 0.05816762\n",
      "Iteration 620, loss = 0.05810569\n",
      "Iteration 621, loss = 0.05799468\n",
      "Iteration 622, loss = 0.05790399\n",
      "Iteration 623, loss = 0.05778638\n",
      "Iteration 624, loss = 0.05760270\n",
      "Iteration 625, loss = 0.05756151\n",
      "Iteration 626, loss = 0.05745108\n",
      "Iteration 627, loss = 0.05741047\n",
      "Iteration 628, loss = 0.05725584\n",
      "Iteration 629, loss = 0.05710084\n",
      "Iteration 630, loss = 0.05706093\n",
      "Iteration 631, loss = 0.05695998\n",
      "Iteration 632, loss = 0.05683639\n",
      "Iteration 633, loss = 0.05673044\n",
      "Iteration 634, loss = 0.05666626\n",
      "Iteration 635, loss = 0.05656330\n",
      "Iteration 636, loss = 0.05647769\n",
      "Iteration 637, loss = 0.05639058\n",
      "Iteration 638, loss = 0.05622325\n",
      "Iteration 639, loss = 0.05612883\n",
      "Iteration 640, loss = 0.05602200\n",
      "Iteration 641, loss = 0.05601297\n",
      "Iteration 642, loss = 0.05581398\n",
      "Iteration 643, loss = 0.05568832\n",
      "Iteration 644, loss = 0.05558899\n",
      "Iteration 645, loss = 0.05554739\n",
      "Iteration 646, loss = 0.05540957\n",
      "Iteration 647, loss = 0.05529572\n",
      "Iteration 648, loss = 0.05517813\n",
      "Iteration 649, loss = 0.05515064\n",
      "Iteration 650, loss = 0.05507232\n",
      "Iteration 651, loss = 0.05494015\n",
      "Iteration 652, loss = 0.05490210\n",
      "Iteration 653, loss = 0.05477900\n",
      "Iteration 654, loss = 0.05469699\n",
      "Iteration 655, loss = 0.05452839\n",
      "Iteration 656, loss = 0.05444451\n",
      "Iteration 657, loss = 0.05437670\n",
      "Iteration 658, loss = 0.05428070\n",
      "Iteration 659, loss = 0.05425175\n",
      "Iteration 660, loss = 0.05408808\n",
      "Iteration 661, loss = 0.05397715\n",
      "Iteration 662, loss = 0.05390644\n",
      "Iteration 663, loss = 0.05379411\n",
      "Iteration 664, loss = 0.05377802\n",
      "Iteration 665, loss = 0.05360319\n",
      "Iteration 666, loss = 0.05350556\n",
      "Iteration 667, loss = 0.05345014\n",
      "Iteration 668, loss = 0.05332515\n",
      "Iteration 669, loss = 0.05327844\n",
      "Iteration 670, loss = 0.05316854\n",
      "Iteration 671, loss = 0.05304180\n",
      "Iteration 672, loss = 0.05298978\n",
      "Iteration 673, loss = 0.05285599\n",
      "Iteration 674, loss = 0.05281168\n",
      "Iteration 675, loss = 0.05269819\n",
      "Iteration 676, loss = 0.05268355\n",
      "Iteration 677, loss = 0.05250455\n",
      "Iteration 678, loss = 0.05244459\n",
      "Iteration 679, loss = 0.05236941\n",
      "Iteration 680, loss = 0.05227875\n",
      "Iteration 681, loss = 0.05214037\n",
      "Iteration 682, loss = 0.05212729\n",
      "Iteration 683, loss = 0.05197342\n",
      "Iteration 684, loss = 0.05191882\n",
      "Iteration 685, loss = 0.05178466\n",
      "Iteration 686, loss = 0.05174284\n",
      "Iteration 687, loss = 0.05168178\n",
      "Iteration 688, loss = 0.05150184\n",
      "Iteration 689, loss = 0.05150192\n",
      "Iteration 690, loss = 0.05138149\n",
      "Iteration 691, loss = 0.05133148\n",
      "Iteration 692, loss = 0.05117499\n",
      "Iteration 693, loss = 0.05111520\n",
      "Iteration 694, loss = 0.05122010\n",
      "Iteration 695, loss = 0.05103432\n",
      "Iteration 696, loss = 0.05099322\n",
      "Iteration 697, loss = 0.05081508\n",
      "Iteration 698, loss = 0.05073814\n",
      "Iteration 699, loss = 0.05070936\n",
      "Iteration 700, loss = 0.05052598\n",
      "Iteration 701, loss = 0.05047768\n",
      "Iteration 702, loss = 0.05041362\n",
      "Iteration 703, loss = 0.05035074\n",
      "Iteration 704, loss = 0.05018808\n",
      "Iteration 705, loss = 0.05012410\n",
      "Iteration 706, loss = 0.05004815\n",
      "Iteration 707, loss = 0.05004521\n",
      "Iteration 708, loss = 0.04989906\n",
      "Iteration 709, loss = 0.04983741\n",
      "Iteration 710, loss = 0.04977389\n",
      "Iteration 711, loss = 0.04970084\n",
      "Iteration 712, loss = 0.04962068\n",
      "Iteration 713, loss = 0.04948762\n",
      "Iteration 714, loss = 0.04941436\n",
      "Iteration 715, loss = 0.04933436\n",
      "Iteration 716, loss = 0.04926722\n",
      "Iteration 717, loss = 0.04920019\n",
      "Iteration 718, loss = 0.04911270\n",
      "Iteration 719, loss = 0.04900764\n",
      "Iteration 720, loss = 0.04894573\n",
      "Iteration 721, loss = 0.04892494\n",
      "Iteration 722, loss = 0.04874648\n",
      "Iteration 723, loss = 0.04871552\n",
      "Iteration 724, loss = 0.04864745\n",
      "Iteration 725, loss = 0.04859181\n",
      "Iteration 726, loss = 0.04850468\n",
      "Iteration 727, loss = 0.04838121\n",
      "Iteration 728, loss = 0.04831070\n",
      "Iteration 729, loss = 0.04829903\n",
      "Iteration 730, loss = 0.04824233\n",
      "Iteration 731, loss = 0.04842904\n",
      "Iteration 732, loss = 0.04804505\n",
      "Iteration 733, loss = 0.04794073\n",
      "Iteration 734, loss = 0.04787300\n",
      "Iteration 735, loss = 0.04776418\n",
      "Iteration 736, loss = 0.04773233\n",
      "Iteration 737, loss = 0.04772469\n",
      "Iteration 738, loss = 0.04758619\n",
      "Iteration 739, loss = 0.04752169\n",
      "Iteration 740, loss = 0.04751045\n",
      "Iteration 741, loss = 0.04743834\n",
      "Iteration 742, loss = 0.04734279\n",
      "Iteration 743, loss = 0.04720284\n",
      "Iteration 744, loss = 0.04714000\n",
      "Iteration 745, loss = 0.04714644\n",
      "Iteration 746, loss = 0.04700547\n",
      "Iteration 747, loss = 0.04693532\n",
      "Iteration 748, loss = 0.04684936\n",
      "Iteration 749, loss = 0.04677916\n",
      "Iteration 750, loss = 0.04671873\n",
      "Iteration 751, loss = 0.04665582\n",
      "Iteration 752, loss = 0.04660867\n",
      "Iteration 753, loss = 0.04651391\n",
      "Iteration 754, loss = 0.04641322\n",
      "Iteration 755, loss = 0.04636641\n",
      "Iteration 756, loss = 0.04629299\n",
      "Iteration 757, loss = 0.04625776\n",
      "Iteration 758, loss = 0.04622954\n"
     ]
    },
    {
     "name": "stdout",
     "output_type": "stream",
     "text": [
      "Iteration 759, loss = 0.04604819\n",
      "Iteration 760, loss = 0.04603487\n",
      "Iteration 761, loss = 0.04593162\n",
      "Iteration 762, loss = 0.04595037\n",
      "Iteration 763, loss = 0.04583614\n",
      "Iteration 764, loss = 0.04577593\n",
      "Iteration 765, loss = 0.04565587\n",
      "Iteration 766, loss = 0.04565221\n",
      "Iteration 767, loss = 0.04559750\n",
      "Iteration 768, loss = 0.04547587\n",
      "Iteration 769, loss = 0.04539992\n",
      "Iteration 770, loss = 0.04535599\n",
      "Iteration 771, loss = 0.04525917\n",
      "Iteration 772, loss = 0.04523874\n",
      "Iteration 773, loss = 0.04510801\n",
      "Iteration 774, loss = 0.04505662\n",
      "Iteration 775, loss = 0.04499054\n",
      "Iteration 776, loss = 0.04495447\n",
      "Iteration 777, loss = 0.04486943\n",
      "Iteration 778, loss = 0.04483563\n",
      "Iteration 779, loss = 0.04473454\n",
      "Iteration 780, loss = 0.04473313\n",
      "Iteration 781, loss = 0.04463823\n",
      "Iteration 782, loss = 0.04453295\n",
      "Iteration 783, loss = 0.04455944\n",
      "Iteration 784, loss = 0.04447021\n",
      "Iteration 785, loss = 0.04436995\n",
      "Iteration 786, loss = 0.04429967\n",
      "Iteration 787, loss = 0.04420941\n",
      "Iteration 788, loss = 0.04417982\n",
      "Iteration 789, loss = 0.04414186\n",
      "Iteration 790, loss = 0.04404188\n",
      "Iteration 791, loss = 0.04395823\n",
      "Iteration 792, loss = 0.04390657\n",
      "Iteration 793, loss = 0.04393100\n",
      "Iteration 794, loss = 0.04383886\n",
      "Iteration 795, loss = 0.04369609\n",
      "Iteration 796, loss = 0.04366831\n",
      "Iteration 797, loss = 0.04362220\n",
      "Iteration 798, loss = 0.04354853\n",
      "Iteration 799, loss = 0.04349943\n",
      "Iteration 800, loss = 0.04343799\n",
      "Iteration 801, loss = 0.04336686\n",
      "Iteration 802, loss = 0.04328119\n",
      "Iteration 803, loss = 0.04317441\n",
      "Iteration 804, loss = 0.04315384\n",
      "Iteration 805, loss = 0.04311323\n",
      "Iteration 806, loss = 0.04308242\n",
      "Iteration 807, loss = 0.04298205\n",
      "Iteration 808, loss = 0.04292393\n",
      "Iteration 809, loss = 0.04297757\n",
      "Iteration 810, loss = 0.04281865\n",
      "Iteration 811, loss = 0.04270535\n",
      "Iteration 812, loss = 0.04267809\n",
      "Iteration 813, loss = 0.04263365\n",
      "Iteration 814, loss = 0.04259852\n",
      "Iteration 815, loss = 0.04249792\n",
      "Iteration 816, loss = 0.04243426\n",
      "Iteration 817, loss = 0.04233888\n",
      "Iteration 818, loss = 0.04231803\n",
      "Iteration 819, loss = 0.04225598\n",
      "Iteration 820, loss = 0.04224564\n",
      "Iteration 821, loss = 0.04216096\n",
      "Iteration 822, loss = 0.04214694\n",
      "Iteration 823, loss = 0.04210943\n",
      "Iteration 824, loss = 0.04197860\n",
      "Iteration 825, loss = 0.04198528\n",
      "Iteration 826, loss = 0.04190834\n",
      "Iteration 827, loss = 0.04187639\n",
      "Iteration 828, loss = 0.04176525\n",
      "Iteration 829, loss = 0.04170407\n",
      "Iteration 830, loss = 0.04169531\n",
      "Iteration 831, loss = 0.04155396\n",
      "Iteration 832, loss = 0.04152892\n",
      "Iteration 833, loss = 0.04146019\n",
      "Iteration 834, loss = 0.04139522\n",
      "Iteration 835, loss = 0.04136775\n",
      "Iteration 836, loss = 0.04133873\n",
      "Iteration 837, loss = 0.04126374\n",
      "Iteration 838, loss = 0.04118541\n",
      "Iteration 839, loss = 0.04114937\n",
      "Iteration 840, loss = 0.04109850\n",
      "Iteration 841, loss = 0.04104899\n",
      "Iteration 842, loss = 0.04092595\n",
      "Iteration 843, loss = 0.04092940\n",
      "Iteration 844, loss = 0.04089730\n",
      "Iteration 845, loss = 0.04079142\n",
      "Iteration 846, loss = 0.04077660\n",
      "Iteration 847, loss = 0.04070937\n",
      "Iteration 848, loss = 0.04073642\n",
      "Iteration 849, loss = 0.04055182\n",
      "Iteration 850, loss = 0.04056395\n",
      "Iteration 851, loss = 0.04052527\n",
      "Iteration 852, loss = 0.04045340\n",
      "Iteration 853, loss = 0.04044591\n",
      "Iteration 854, loss = 0.04041641\n",
      "Iteration 855, loss = 0.04025252\n",
      "Iteration 856, loss = 0.04024292\n",
      "Iteration 857, loss = 0.04016271\n",
      "Iteration 858, loss = 0.04011390\n",
      "Iteration 859, loss = 0.04011734\n",
      "Iteration 860, loss = 0.04001643\n",
      "Iteration 861, loss = 0.03994263\n",
      "Iteration 862, loss = 0.03988421\n",
      "Iteration 863, loss = 0.03989837\n",
      "Iteration 864, loss = 0.03979769\n",
      "Iteration 865, loss = 0.03973984\n",
      "Iteration 866, loss = 0.03972533\n",
      "Training loss did not improve more than tol=0.000100 for 10 consecutive epochs. Stopping.\n"
     ]
    },
    {
     "data": {
      "text/html": [
       "<style>#sk-container-id-2 {color: black;}#sk-container-id-2 pre{padding: 0;}#sk-container-id-2 div.sk-toggleable {background-color: white;}#sk-container-id-2 label.sk-toggleable__label {cursor: pointer;display: block;width: 100%;margin-bottom: 0;padding: 0.3em;box-sizing: border-box;text-align: center;}#sk-container-id-2 label.sk-toggleable__label-arrow:before {content: \"▸\";float: left;margin-right: 0.25em;color: #696969;}#sk-container-id-2 label.sk-toggleable__label-arrow:hover:before {color: black;}#sk-container-id-2 div.sk-estimator:hover label.sk-toggleable__label-arrow:before {color: black;}#sk-container-id-2 div.sk-toggleable__content {max-height: 0;max-width: 0;overflow: hidden;text-align: left;background-color: #f0f8ff;}#sk-container-id-2 div.sk-toggleable__content pre {margin: 0.2em;color: black;border-radius: 0.25em;background-color: #f0f8ff;}#sk-container-id-2 input.sk-toggleable__control:checked~div.sk-toggleable__content {max-height: 200px;max-width: 100%;overflow: auto;}#sk-container-id-2 input.sk-toggleable__control:checked~label.sk-toggleable__label-arrow:before {content: \"▾\";}#sk-container-id-2 div.sk-estimator input.sk-toggleable__control:checked~label.sk-toggleable__label {background-color: #d4ebff;}#sk-container-id-2 div.sk-label input.sk-toggleable__control:checked~label.sk-toggleable__label {background-color: #d4ebff;}#sk-container-id-2 input.sk-hidden--visually {border: 0;clip: rect(1px 1px 1px 1px);clip: rect(1px, 1px, 1px, 1px);height: 1px;margin: -1px;overflow: hidden;padding: 0;position: absolute;width: 1px;}#sk-container-id-2 div.sk-estimator {font-family: monospace;background-color: #f0f8ff;border: 1px dotted black;border-radius: 0.25em;box-sizing: border-box;margin-bottom: 0.5em;}#sk-container-id-2 div.sk-estimator:hover {background-color: #d4ebff;}#sk-container-id-2 div.sk-parallel-item::after {content: \"\";width: 100%;border-bottom: 1px solid gray;flex-grow: 1;}#sk-container-id-2 div.sk-label:hover label.sk-toggleable__label {background-color: #d4ebff;}#sk-container-id-2 div.sk-serial::before {content: \"\";position: absolute;border-left: 1px solid gray;box-sizing: border-box;top: 0;bottom: 0;left: 50%;z-index: 0;}#sk-container-id-2 div.sk-serial {display: flex;flex-direction: column;align-items: center;background-color: white;padding-right: 0.2em;padding-left: 0.2em;position: relative;}#sk-container-id-2 div.sk-item {position: relative;z-index: 1;}#sk-container-id-2 div.sk-parallel {display: flex;align-items: stretch;justify-content: center;background-color: white;position: relative;}#sk-container-id-2 div.sk-item::before, #sk-container-id-2 div.sk-parallel-item::before {content: \"\";position: absolute;border-left: 1px solid gray;box-sizing: border-box;top: 0;bottom: 0;left: 50%;z-index: -1;}#sk-container-id-2 div.sk-parallel-item {display: flex;flex-direction: column;z-index: 1;position: relative;background-color: white;}#sk-container-id-2 div.sk-parallel-item:first-child::after {align-self: flex-end;width: 50%;}#sk-container-id-2 div.sk-parallel-item:last-child::after {align-self: flex-start;width: 50%;}#sk-container-id-2 div.sk-parallel-item:only-child::after {width: 0;}#sk-container-id-2 div.sk-dashed-wrapped {border: 1px dashed gray;margin: 0 0.4em 0.5em 0.4em;box-sizing: border-box;padding-bottom: 0.4em;background-color: white;}#sk-container-id-2 div.sk-label label {font-family: monospace;font-weight: bold;display: inline-block;line-height: 1.2em;}#sk-container-id-2 div.sk-label-container {text-align: center;}#sk-container-id-2 div.sk-container {/* jupyter's `normalize.less` sets `[hidden] { display: none; }` but bootstrap.min.css set `[hidden] { display: none !important; }` so we also need the `!important` here to be able to override the default hidden behavior on the sphinx rendered scikit-learn.org. See: https://github.com/scikit-learn/scikit-learn/issues/21755 */display: inline-block !important;position: relative;}#sk-container-id-2 div.sk-text-repr-fallback {display: none;}</style><div id=\"sk-container-id-2\" class=\"sk-top-container\"><div class=\"sk-text-repr-fallback\"><pre>MLPClassifier(alpha=0.01, hidden_layer_sizes=(256, 128, 32), max_iter=1000,\n",
       "              random_state=1, solver=&#x27;sgd&#x27;, verbose=True)</pre><b>In a Jupyter environment, please rerun this cell to show the HTML representation or trust the notebook. <br />On GitHub, the HTML representation is unable to render, please try loading this page with nbviewer.org.</b></div><div class=\"sk-container\" hidden><div class=\"sk-item\"><div class=\"sk-estimator sk-toggleable\"><input class=\"sk-toggleable__control sk-hidden--visually\" id=\"sk-estimator-id-2\" type=\"checkbox\" checked><label for=\"sk-estimator-id-2\" class=\"sk-toggleable__label sk-toggleable__label-arrow\">MLPClassifier</label><div class=\"sk-toggleable__content\"><pre>MLPClassifier(alpha=0.01, hidden_layer_sizes=(256, 128, 32), max_iter=1000,\n",
       "              random_state=1, solver=&#x27;sgd&#x27;, verbose=True)</pre></div></div></div></div></div>"
      ],
      "text/plain": [
       "MLPClassifier(alpha=0.01, hidden_layer_sizes=(256, 128, 32), max_iter=1000,\n",
       "              random_state=1, solver='sgd', verbose=True)"
      ]
     },
     "execution_count": 32,
     "metadata": {},
     "output_type": "execute_result"
    }
   ],
   "source": [
    "sgd_mlp_digits_model = MLPClassifier(hidden_layer_sizes=(256,128,32),max_iter=1000,\n",
    "                                alpha=0.01, solver='sgd', random_state= 1, verbose = True,\n",
    "                                 tol = 1e-4)\n",
    "sgd_mlp_digits_model.fit(X_train,y_train)"
   ]
  },
  {
   "cell_type": "code",
   "execution_count": 33,
   "id": "45ad9b56",
   "metadata": {},
   "outputs": [
    {
     "name": "stdout",
     "output_type": "stream",
     "text": [
      "Test set score(accuracy on test set): 0.96\n"
     ]
    }
   ],
   "source": [
    "print(\"Test set score(accuracy on test set): {0:0.2f}\".format(sgd_mlp_digits_model.score(X_test,y_test)))"
   ]
  },
  {
   "cell_type": "markdown",
   "id": "81853aa2",
   "metadata": {},
   "source": [
    "The accuracy with verbose = true is at 96%.The max_iter was at 500. With the max_iter at 1000, the accuracy goes to 97%. Both of these had a learning rate of 0.001."
   ]
  },
  {
   "cell_type": "markdown",
   "id": "e2040cc0",
   "metadata": {},
   "source": [
    "# Exercise 3"
   ]
  },
  {
   "cell_type": "code",
   "execution_count": 34,
   "id": "f2106ec1",
   "metadata": {},
   "outputs": [
    {
     "data": {
      "text/plain": [
       "array([2, 8, 9, ..., 7, 7, 8])"
      ]
     },
     "execution_count": 34,
     "metadata": {},
     "output_type": "execute_result"
    }
   ],
   "source": [
    "sgd_mlp_digits_model.predict(X_train)"
   ]
  },
  {
   "cell_type": "code",
   "execution_count": null,
   "id": "768335e0",
   "metadata": {},
   "outputs": [],
   "source": []
  }
 ],
 "metadata": {
  "kernelspec": {
   "display_name": "Python 3 (ipykernel)",
   "language": "python",
   "name": "python3"
  },
  "language_info": {
   "codemirror_mode": {
    "name": "ipython",
    "version": 3
   },
   "file_extension": ".py",
   "mimetype": "text/x-python",
   "name": "python",
   "nbconvert_exporter": "python",
   "pygments_lexer": "ipython3",
   "version": "3.11.5"
  }
 },
 "nbformat": 4,
 "nbformat_minor": 5
}

{
 "cells": [
  {
   "cell_type": "markdown",
   "id": "ba4d4fda",
   "metadata": {},
   "source": [
    "<h1 style=\"color:red;text-align: center\";> ISAT 449 Emerging Topics in Data Science </h1>\n",
    "<h2 style=\"color:red;text-align: center\";> Lab 3: Training a Multilayer Perceptron Model using Scikit-Learn\n",
    "<img   src=\"images/mnist.png\" width=400; height=400>\n",
    "<br>\n",
    "<h3 style=\"color:red;text-align: center\";> Completed by Quron Anthony\n",
    "\n",
    "\n",
    "\n",
    "\n",
    "\n",
    "\n"
   ]
  },
  {
   "cell_type": "markdown",
   "id": "77614aeb",
   "metadata": {},
   "source": [
    "## Objectives \n",
    "- Import and learn about the MNIST dataset and its structure\n",
    "- Create trianing , validation and test datasets from the MNIST data\n",
    "- Build a simple but effective Scikit Learn MLPClassifier model for recognizing digits, based on looking at every pixel in the image\n"
   ]
  },
  {
   "cell_type": "code",
   "execution_count": 5,
   "id": "78877672",
   "metadata": {},
   "outputs": [],
   "source": [
    "\n",
    "from sklearn.datasets import fetch_openml\n",
    "from sklearn.model_selection import train_test_split\n",
    "from sklearn.metrics import classification_report\n",
    "import numpy as np\n",
    "import matplotlib.pyplot as plt"
   ]
  },
  {
   "cell_type": "markdown",
   "id": "55c4796d",
   "metadata": {},
   "source": [
    "When one learns how to program, there's a tradition that the first thing you do is print \"Hello World.\" Just like programming has Hello World,\n",
    "machine learning has MNIST.\n",
    "MNIST is a simple computer vision dataset. It consists of images of handwritten digits like these:\n",
    "<img   src=\"images/mnist_image.png\" width=400; height=400>\n",
    "<br>\n",
    "It also includes labels for each image, telling us which digit it is. For example, the labels for the above images are 5, 0, 4, and 1."
   ]
  },
  {
   "cell_type": "markdown",
   "id": "3d8c8edb",
   "metadata": {},
   "source": [
    "## Loading Data\n"
   ]
  },
  {
   "cell_type": "code",
   "execution_count": 6,
   "id": "30fec7ae",
   "metadata": {},
   "outputs": [],
   "source": [
    "import ssl\n",
    "ssl._create_default_https_context = ssl._create_unverified_context\n",
    "mnist=fetch_openml(name='mnist_784',parser='pandas',version=1, cache=False)"
   ]
  },
  {
   "cell_type": "markdown",
   "id": "aff02823",
   "metadata": {},
   "source": [
    "## Printing the Shape"
   ]
  },
  {
   "cell_type": "code",
   "execution_count": 7,
   "id": "b5105de5",
   "metadata": {},
   "outputs": [
    {
     "data": {
      "text/plain": [
       "(70000, 784)"
      ]
     },
     "execution_count": 7,
     "metadata": {},
     "output_type": "execute_result"
    }
   ],
   "source": [
    "mnist.data.shape"
   ]
  },
  {
   "cell_type": "markdown",
   "id": "677f5094",
   "metadata": {},
   "source": [
    "There are 70,000 images and each image has 784 features (each image is 28 x 28 pixels and each pixel represents a feature of an image )"
   ]
  },
  {
   "cell_type": "markdown",
   "id": "ba208861",
   "metadata": {},
   "source": [
    "## Preprocessing Data"
   ]
  },
  {
   "cell_type": "markdown",
   "id": "baa68381",
   "metadata": {},
   "source": [
    "Each image of the MNIST dataset is encoded in a 784 dimensional vector, representing a 28 x 28 pixel image. Each pixel has a value between\n",
    "0 and 255, representing the pixels intensity, from 0 (white) to 255 (black) corresponding to the grey-value of a pixel.\n",
    "The above featch_mldata method to load MNIST returns data and target as uint8 which we convert to float32 and int64\n",
    "respectively"
   ]
  },
  {
   "cell_type": "code",
   "execution_count": 8,
   "id": "558d7711",
   "metadata": {},
   "outputs": [],
   "source": [
    "X = mnist.data.astype('float32')\n",
    "y = mnist.target.astype('int64')"
   ]
  },
  {
   "cell_type": "markdown",
   "id": "33b08d0b",
   "metadata": {},
   "source": [
    "To avoid big weights that deal with the pixel values from between [0, 255], we scale X down. A commonly used range is [0, 1]"
   ]
  },
  {
   "cell_type": "code",
   "execution_count": 9,
   "id": "f9a99a95",
   "metadata": {},
   "outputs": [],
   "source": [
    "X /= 255.0"
   ]
  },
  {
   "cell_type": "code",
   "execution_count": 10,
   "id": "ea7f7e0b",
   "metadata": {},
   "outputs": [
    {
     "data": {
      "text/plain": [
       "(pixel1      0.0\n",
       " pixel2      0.0\n",
       " pixel3      0.0\n",
       " pixel4      0.0\n",
       " pixel5      0.0\n",
       "            ... \n",
       " pixel780    0.0\n",
       " pixel781    0.0\n",
       " pixel782    0.0\n",
       " pixel783    0.0\n",
       " pixel784    0.0\n",
       " Length: 784, dtype: float64,\n",
       " pixel1      0.000000\n",
       " pixel2      0.000000\n",
       " pixel3      0.000000\n",
       " pixel4      0.000000\n",
       " pixel5      0.000000\n",
       "               ...   \n",
       " pixel780    0.243137\n",
       " pixel781    0.000000\n",
       " pixel782    0.000000\n",
       " pixel783    0.000000\n",
       " pixel784    0.000000\n",
       " Length: 784, dtype: float64)"
      ]
     },
     "execution_count": 10,
     "metadata": {},
     "output_type": "execute_result"
    }
   ],
   "source": [
    "X.min(), X.max()"
   ]
  },
  {
   "cell_type": "markdown",
   "id": "dac3321f",
   "metadata": {},
   "source": [
    "Initial data isn't normalized"
   ]
  },
  {
   "cell_type": "markdown",
   "id": "b92d82a6",
   "metadata": {},
   "source": [
    "### Train/Test Split"
   ]
  },
  {
   "cell_type": "markdown",
   "id": "b9e8cf7d",
   "metadata": {},
   "source": [
    "The MNIST data is already split into a training set (the first 60,000 images) and a test set (the last 10,000 images). Furthermore, the training\n",
    "set is already shuffled for us! So we can just use python list slicing to generate our datasets from the full set of images."
   ]
  },
  {
   "cell_type": "code",
   "execution_count": 11,
   "id": "9b0f6ea3",
   "metadata": {},
   "outputs": [],
   "source": [
    "X_train, X_test, y_train, y_test = X[:60000], X[60000:], y[:60000], y[60000:]"
   ]
  },
  {
   "cell_type": "markdown",
   "id": "26a35a86",
   "metadata": {},
   "source": [
    "### Print shapes of training and testing sets "
   ]
  },
  {
   "cell_type": "code",
   "execution_count": 12,
   "id": "bfc96835",
   "metadata": {},
   "outputs": [
    {
     "data": {
      "text/plain": [
       "((60000, 784), (60000,))"
      ]
     },
     "execution_count": 12,
     "metadata": {},
     "output_type": "execute_result"
    }
   ],
   "source": [
    "X_train.shape, y_train.shape"
   ]
  },
  {
   "cell_type": "markdown",
   "id": "6bbad2dc",
   "metadata": {},
   "source": [
    "### Print a selectiong of training images and their labels "
   ]
  },
  {
   "cell_type": "code",
   "execution_count": 13,
   "id": "88d47636",
   "metadata": {},
   "outputs": [],
   "source": [
    "def plot_example(X,y):\n",
    "    \"Plots the first 5 images and their labels in a row\"\n",
    "    for i, (img,y) in enumerate(zip(X[:5].values.reshape(5,28,28),y[:5])):\n",
    "        plt.subplot(151+i)\n",
    "        plt.imshow(img)\n",
    "        plt.xticks([])\n",
    "        plt.yticks([])\n",
    "        plt.title(y)"
   ]
  },
  {
   "cell_type": "code",
   "execution_count": 14,
   "id": "93561509",
   "metadata": {},
   "outputs": [
    {
     "data": {
      "image/png": "[encoded data removed]",
      "text/plain": [
       "<Figure size 640x480 with 5 Axes>"
      ]
     },
     "metadata": {},
     "output_type": "display_data"
    }
   ],
   "source": [
    "plot_example(X_train, y_train)"
   ]
  },
  {
   "cell_type": "markdown",
   "id": "566afbfc",
   "metadata": {},
   "source": [
    "## Is the Training Dataset Balanced?\n",
    "Let's plot a histogram of the training dastset labels class labels to make sure we have a balanaced dataset, i.e.we want to figure out how often\n",
    "each number is represented in the training dataset This is important when we are trying to eliminate algorithmic bias in our machine learning\n",
    "models."
   ]
  },
  {
   "cell_type": "code",
   "execution_count": 15,
   "id": "db2cc672",
   "metadata": {},
   "outputs": [
    {
     "data": {
      "text/plain": [
       "<matplotlib.legend.Legend at 0x1700fa490>"
      ]
     },
     "execution_count": 15,
     "metadata": {},
     "output_type": "execute_result"
    },
    {
     "data": {
      "image/png": "[encoded data removed]",
      "text/plain": [
       "<Figure size 1000x500 with 1 Axes>"
      ]
     },
     "metadata": {},
     "output_type": "display_data"
    }
   ],
   "source": [
    "fig, ax = plt.subplots(nrows=1, ncols=1, figsize=(10,5))\n",
    "ax.hist(y,bins=[0,1,2,3,4,5,6,7,8,10], edgecolor='b', histtype='bar',align='left')\n",
    "ax.set_title('Histogram: Training data set ')\n",
    "ax.set(xlabel='Number', ylabel='Frequency')\n",
    "ax.xaxis.set_ticks([0,1,2,3,4,5,6,7,8,9]);\n",
    "ax.axhline(y=(y.size/10), label=\"average frequency\", linestyle='dashed', color='r')\n",
    "ax.legend()"
   ]
  },
  {
   "cell_type": "markdown",
   "id": "c103216e",
   "metadata": {},
   "source": [
    "We can see the number of examples for each number to detect is not even distributed. There are more 1, 3 and 7 in the dataset."
   ]
  },
  {
   "cell_type": "markdown",
   "id": "a0f9fa64",
   "metadata": {},
   "source": [
    "# Build Neural Network with Scikit Learn MultiLayer Perceptron Classifier\n",
    "Let's build a simple, fully connected neural network with three hidden layers with the following parameters"
   ]
  },
  {
   "cell_type": "markdown",
   "id": "d7acfd5e",
   "metadata": {},
   "source": [
    "## The Model using a Multilayer Perceptron Classifier"
   ]
  },
  {
   "cell_type": "markdown",
   "id": "31f607f8",
   "metadata": {},
   "source": [
    "### Build the model with 3 hidden layers as follows:\n",
    "- hidden layer = 256 neurons \n",
    "- hidden layer = 128 neurons \n",
    "- hidden layer = 32 neurons \n",
    "### also, use these parameters\n",
    "- solver ='adam'\n",
    "- learning_rate_init= 0.001\n",
    "- tol=1e-2\n",
    "- max_iter= 500\n",
    "- verbose = True\n",
    "- random_state=1"
   ]
  },
  {
   "cell_type": "markdown",
   "id": "e7dd538b",
   "metadata": {},
   "source": [
    "You can use the default values for the rest of the parameters\n",
    "\n",
    "Input layer has 784 dimensions (28x28), and the output layer 10 neurons, representing digits 0 - 9. The MLPClassifier implements a multi-layer\n",
    "perceptron (MLP) algorithm that trains using Backpropagation. MLP trains on two arrays: array X of size (n_samples, n_features), which holds\n",
    "the training samples represented as floating point feature vectors; and array y of size (n_samples,), which holds the target values (class labels)\n",
    "for the training samples:"
   ]
  },
  {
   "cell_type": "code",
   "execution_count": 18,
   "id": "7c8c7aed",
   "metadata": {},
   "outputs": [],
   "source": [
    "from sklearn.neural_network import MLPClassifier\n",
    "\n",
    "mlp_mnist_model = MLPClassifier(hidden_layer_sizes=(256,128,32),max_iter=500,\n",
    "                                alpha=0.001, solver='adam', random_state= 0, verbose = True,\n",
    "                                 tol = 1e-2)"
   ]
  },
  {
   "cell_type": "code",
   "execution_count": 20,
   "id": "3de4efbe",
   "metadata": {},
   "outputs": [
    {
     "name": "stdout",
     "output_type": "stream",
     "text": [
      "Iteration 1, loss = 0.32641733\n",
      "Iteration 2, loss = 0.12041517\n",
      "Iteration 3, loss = 0.07933066\n",
      "Iteration 4, loss = 0.05766777\n",
      "Iteration 5, loss = 0.04235462\n",
      "Iteration 6, loss = 0.03501749\n",
      "Iteration 7, loss = 0.02648700\n",
      "Iteration 8, loss = 0.02184988\n",
      "Iteration 9, loss = 0.02045885\n",
      "Iteration 10, loss = 0.01520554\n",
      "Iteration 11, loss = 0.01829864\n",
      "Iteration 12, loss = 0.01473310\n",
      "Iteration 13, loss = 0.01348581\n",
      "Iteration 14, loss = 0.01180062\n",
      "Iteration 15, loss = 0.01494752\n",
      "Iteration 16, loss = 0.01208354\n",
      "Training loss did not improve more than tol=0.010000 for 10 consecutive epochs. Stopping.\n"
     ]
    },
    {
     "data": {
      "text/html": [
       "<style>#sk-container-id-1 {color: black;}#sk-container-id-1 pre{padding: 0;}#sk-container-id-1 div.sk-toggleable {background-color: white;}#sk-container-id-1 label.sk-toggleable__label {cursor: pointer;display: block;width: 100%;margin-bottom: 0;padding: 0.3em;box-sizing: border-box;text-align: center;}#sk-container-id-1 label.sk-toggleable__label-arrow:before {content: \"▸\";float: left;margin-right: 0.25em;color: #696969;}#sk-container-id-1 label.sk-toggleable__label-arrow:hover:before {color: black;}#sk-container-id-1 div.sk-estimator:hover label.sk-toggleable__label-arrow:before {color: black;}#sk-container-id-1 div.sk-toggleable__content {max-height: 0;max-width: 0;overflow: hidden;text-align: left;background-color: #f0f8ff;}#sk-container-id-1 div.sk-toggleable__content pre {margin: 0.2em;color: black;border-radius: 0.25em;background-color: #f0f8ff;}#sk-container-id-1 input.sk-toggleable__control:checked~div.sk-toggleable__content {max-height: 200px;max-width: 100%;overflow: auto;}#sk-container-id-1 input.sk-toggleable__control:checked~label.sk-toggleable__label-arrow:before {content: \"▾\";}#sk-container-id-1 div.sk-estimator input.sk-toggleable__control:checked~label.sk-toggleable__label {background-color: #d4ebff;}#sk-container-id-1 div.sk-label input.sk-toggleable__control:checked~label.sk-toggleable__label {background-color: #d4ebff;}#sk-container-id-1 input.sk-hidden--visually {border: 0;clip: rect(1px 1px 1px 1px);clip: rect(1px, 1px, 1px, 1px);height: 1px;margin: -1px;overflow: hidden;padding: 0;position: absolute;width: 1px;}#sk-container-id-1 div.sk-estimator {font-family: monospace;background-color: #f0f8ff;border: 1px dotted black;border-radius: 0.25em;box-sizing: border-box;margin-bottom: 0.5em;}#sk-container-id-1 div.sk-estimator:hover {background-color: #d4ebff;}#sk-container-id-1 div.sk-parallel-item::after {content: \"\";width: 100%;border-bottom: 1px solid gray;flex-grow: 1;}#sk-container-id-1 div.sk-label:hover label.sk-toggleable__label {background-color: #d4ebff;}#sk-container-id-1 div.sk-serial::before {content: \"\";position: absolute;border-left: 1px solid gray;box-sizing: border-box;top: 0;bottom: 0;left: 50%;z-index: 0;}#sk-container-id-1 div.sk-serial {display: flex;flex-direction: column;align-items: center;background-color: white;padding-right: 0.2em;padding-left: 0.2em;position: relative;}#sk-container-id-1 div.sk-item {position: relative;z-index: 1;}#sk-container-id-1 div.sk-parallel {display: flex;align-items: stretch;justify-content: center;background-color: white;position: relative;}#sk-container-id-1 div.sk-item::before, #sk-container-id-1 div.sk-parallel-item::before {content: \"\";position: absolute;border-left: 1px solid gray;box-sizing: border-box;top: 0;bottom: 0;left: 50%;z-index: -1;}#sk-container-id-1 div.sk-parallel-item {display: flex;flex-direction: column;z-index: 1;position: relative;background-color: white;}#sk-container-id-1 div.sk-parallel-item:first-child::after {align-self: flex-end;width: 50%;}#sk-container-id-1 div.sk-parallel-item:last-child::after {align-self: flex-start;width: 50%;}#sk-container-id-1 div.sk-parallel-item:only-child::after {width: 0;}#sk-container-id-1 div.sk-dashed-wrapped {border: 1px dashed gray;margin: 0 0.4em 0.5em 0.4em;box-sizing: border-box;padding-bottom: 0.4em;background-color: white;}#sk-container-id-1 div.sk-label label {font-family: monospace;font-weight: bold;display: inline-block;line-height: 1.2em;}#sk-container-id-1 div.sk-label-container {text-align: center;}#sk-container-id-1 div.sk-container {/* jupyter's `normalize.less` sets `[hidden] { display: none; }` but bootstrap.min.css set `[hidden] { display: none !important; }` so we also need the `!important` here to be able to override the default hidden behavior on the sphinx rendered scikit-learn.org. See: https://github.com/scikit-learn/scikit-learn/issues/21755 */display: inline-block !important;position: relative;}#sk-container-id-1 div.sk-text-repr-fallback {display: none;}</style><div id=\"sk-container-id-1\" class=\"sk-top-container\"><div class=\"sk-text-repr-fallback\"><pre>MLPClassifier(alpha=0.001, hidden_layer_sizes=(256, 128, 32), max_iter=500,\n",
       "              random_state=0, tol=0.01, verbose=True)</pre><b>In a Jupyter environment, please rerun this cell to show the HTML representation or trust the notebook. <br />On GitHub, the HTML representation is unable to render, please try loading this page with nbviewer.org.</b></div><div class=\"sk-container\" hidden><div class=\"sk-item\"><div class=\"sk-estimator sk-toggleable\"><input class=\"sk-toggleable__control sk-hidden--visually\" id=\"sk-estimator-id-1\" type=\"checkbox\" checked><label for=\"sk-estimator-id-1\" class=\"sk-toggleable__label sk-toggleable__label-arrow\">MLPClassifier</label><div class=\"sk-toggleable__content\"><pre>MLPClassifier(alpha=0.001, hidden_layer_sizes=(256, 128, 32), max_iter=500,\n",
       "              random_state=0, tol=0.01, verbose=True)</pre></div></div></div></div></div>"
      ],
      "text/plain": [
       "MLPClassifier(alpha=0.001, hidden_layer_sizes=(256, 128, 32), max_iter=500,\n",
       "              random_state=0, tol=0.01, verbose=True)"
      ]
     },
     "execution_count": 20,
     "metadata": {},
     "output_type": "execute_result"
    }
   ],
   "source": [
    "mlp_mnist_model.fit(X_train, y_train)"
   ]
  },
  {
   "cell_type": "code",
   "execution_count": 22,
   "id": "9cdbfb22",
   "metadata": {},
   "outputs": [
    {
     "data": {
      "text/plain": [
       "'softmax'"
      ]
     },
     "execution_count": 22,
     "metadata": {},
     "output_type": "execute_result"
    }
   ],
   "source": [
    "mlp_mnist_model.out_activation_"
   ]
  },
  {
   "cell_type": "code",
   "execution_count": 23,
   "id": "42dc7d4b",
   "metadata": {},
   "outputs": [
    {
     "data": {
      "text/plain": [
       "5"
      ]
     },
     "execution_count": 23,
     "metadata": {},
     "output_type": "execute_result"
    }
   ],
   "source": [
    "mlp_mnist_model.n_layers_"
   ]
  },
  {
   "cell_type": "code",
   "execution_count": 24,
   "id": "cfe3d9a7",
   "metadata": {},
   "outputs": [
    {
     "data": {
      "text/plain": [
       "10"
      ]
     },
     "execution_count": 24,
     "metadata": {},
     "output_type": "execute_result"
    }
   ],
   "source": [
    "mlp_mnist_model.n_outputs_"
   ]
  },
  {
   "cell_type": "code",
   "execution_count": 27,
   "id": "ea870f8f",
   "metadata": {},
   "outputs": [
    {
     "data": {
      "text/plain": [
       "16"
      ]
     },
     "execution_count": 27,
     "metadata": {},
     "output_type": "execute_result"
    }
   ],
   "source": [
    "mlp_mnist_model.n_iter_"
   ]
  },
  {
   "cell_type": "markdown",
   "id": "f514cf27",
   "metadata": {},
   "source": [
    "## Model Evaluation and Performance"
   ]
  },
  {
   "cell_type": "code",
   "execution_count": 28,
   "id": "144f1263",
   "metadata": {},
   "outputs": [
    {
     "data": {
      "text/plain": [
       "0.9763"
      ]
     },
     "execution_count": 28,
     "metadata": {},
     "output_type": "execute_result"
    }
   ],
   "source": [
    "mlp_mnist_model.score(X_test,y_test)"
   ]
  },
  {
   "cell_type": "code",
   "execution_count": 29,
   "id": "42f50a86",
   "metadata": {},
   "outputs": [],
   "source": [
    "from sklearn.metrics import accuracy_score"
   ]
  },
  {
   "cell_type": "code",
   "execution_count": 30,
   "id": "4d3b7330",
   "metadata": {},
   "outputs": [],
   "source": [
    "y_pred = mlp_mnist_model.predict(X_test)"
   ]
  },
  {
   "cell_type": "code",
   "execution_count": 31,
   "id": "84d51726",
   "metadata": {},
   "outputs": [
    {
     "data": {
      "text/plain": [
       "0.9763"
      ]
     },
     "execution_count": 31,
     "metadata": {},
     "output_type": "execute_result"
    }
   ],
   "source": [
    "accuracy_score(y_test,y_pred)"
   ]
  },
  {
   "cell_type": "markdown",
   "id": "fb4ae03d",
   "metadata": {},
   "source": [
    "An accuracy of about 98% for a network with only two hidden layers is not too bad.\n",
    "Let's take a look at some predictions that went wrong:"
   ]
  },
  {
   "cell_type": "code",
   "execution_count": 32,
   "id": "7d4f97c7",
   "metadata": {},
   "outputs": [],
   "source": [
    "error_mask = y_pred != y_test"
   ]
  },
  {
   "cell_type": "code",
   "execution_count": 33,
   "id": "756e96dd",
   "metadata": {},
   "outputs": [
    {
     "data": {
      "image/png": "[encoded data removed]",
      "text/plain": [
       "<Figure size 640x480 with 5 Axes>"
      ]
     },
     "metadata": {},
     "output_type": "display_data"
    }
   ],
   "source": [
    "plot_example(X_test[error_mask], y_pred[error_mask])"
   ]
  },
  {
   "cell_type": "code",
   "execution_count": 34,
   "id": "838009f8",
   "metadata": {},
   "outputs": [],
   "source": [
    "loss_values = mlp_mnist_model.loss_curve_"
   ]
  },
  {
   "cell_type": "code",
   "execution_count": 35,
   "id": "0c328591",
   "metadata": {},
   "outputs": [
    {
     "name": "stdout",
     "output_type": "stream",
     "text": [
      "loss values [0.3264173316902989, 0.12041516730826347, 0.07933066092128772, 0.05766777302716615, 0.042354615136189176, 0.035017489035687036, 0.02648699879294936, 0.021849875616251548, 0.020458845443001732, 0.015205535830941384, 0.018298636794955154, 0.014733096914412507, 0.013485808548779886, 0.01180061705129146, 0.014947516696318375, 0.012083542503241028]\n"
     ]
    }
   ],
   "source": [
    "print('loss values {}'.format(loss_values))"
   ]
  },
  {
   "cell_type": "code",
   "execution_count": 36,
   "id": "9a109a07",
   "metadata": {},
   "outputs": [
    {
     "data": {
      "image/png": "[encoded data removed]",
      "text/plain": [
       "<Figure size 600x400 with 1 Axes>"
      ]
     },
     "metadata": {},
     "output_type": "display_data"
    }
   ],
   "source": [
    "import matplotlib.pyplot as plt\n",
    "fig = plt.figure(figsize=(6,4))\n",
    "plt.plot(loss_values, color='blue', label = 'Training loss')\n",
    "plt.xlabel('epoch')\n",
    "plt.ylabel('loss');\n",
    "#Legend\n",
    "plt.legend(loc='upper right')\n",
    "#Title\n",
    "plt.title('Training Loss Per Epoch: MNIST Digits Dataset')\n",
    "#This shows the plot\n",
    "plt.show()"
   ]
  },
  {
   "cell_type": "markdown",
   "id": "7c1d9f89",
   "metadata": {},
   "source": [
    "### Classification Report"
   ]
  },
  {
   "cell_type": "code",
   "execution_count": 37,
   "id": "561f3898",
   "metadata": {},
   "outputs": [
    {
     "name": "stdout",
     "output_type": "stream",
     "text": [
      "Classification Report:\n",
      "              precision    recall  f1-score   support\n",
      "\n",
      "           0       0.98      0.99      0.99       980\n",
      "           1       0.99      1.00      0.99      1135\n",
      "           2       0.96      0.99      0.98      1032\n",
      "           3       0.96      0.98      0.97      1010\n",
      "           4       0.99      0.96      0.98       982\n",
      "           5       0.95      0.98      0.96       892\n",
      "           6       0.99      0.97      0.98       958\n",
      "           7       0.98      0.98      0.98      1028\n",
      "           8       0.98      0.95      0.97       974\n",
      "           9       0.97      0.96      0.97      1009\n",
      "\n",
      "    accuracy                           0.98     10000\n",
      "   macro avg       0.98      0.98      0.98     10000\n",
      "weighted avg       0.98      0.98      0.98     10000\n",
      "\n"
     ]
    }
   ],
   "source": [
    "from sklearn import metrics \n",
    "print('Classification Report:')\n",
    "print(metrics.classification_report(y_test,y_pred))"
   ]
  },
  {
   "cell_type": "markdown",
   "id": "992f2d9a",
   "metadata": {},
   "source": [
    "### Confusion Matrix\n",
    "A further statistic is the confusion matrix that shows the errors that the classifier made during training"
   ]
  },
  {
   "cell_type": "code",
   "execution_count": 38,
   "id": "55eb0e1f",
   "metadata": {},
   "outputs": [
    {
     "data": {
      "image/png": "[encoded data removed]",
      "text/plain": [
       "<Figure size 640x480 with 2 Axes>"
      ]
     },
     "metadata": {},
     "output_type": "display_data"
    }
   ],
   "source": [
    "import matplotlib.pyplot as plt\n",
    "from sklearn.metrics import confusion_matrix, ConfusionMatrixDisplay\n",
    "cm = confusion_matrix(y_test, y_pred, )\n",
    "disp = ConfusionMatrixDisplay(confusion_matrix=cm, )\n",
    "disp.plot()\n",
    "plt.show()"
   ]
  },
  {
   "cell_type": "markdown",
   "id": "6d53da3c",
   "metadata": {},
   "source": [
    "## Exercise 1\n",
    "Based on the confusion matrix, which digit was hardest for the model to classify? Justify your answer!"
   ]
  },
  {
   "cell_type": "code",
   "execution_count": null,
   "id": "29e5544f",
   "metadata": {},
   "outputs": [],
   "source": []
  },
  {
   "cell_type": "markdown",
   "id": "7a859029",
   "metadata": {},
   "source": [
    "Based from the confusion "
   ]
  }
 ],
 "metadata": {
  "kernelspec": {
   "display_name": "Python 3 (ipykernel)",
   "language": "python",
   "name": "python3"
  },
  "language_info": {
   "codemirror_mode": {
    "name": "ipython",
    "version": 3
   },
   "file_extension": ".py",
   "mimetype": "text/x-python",
   "name": "python",
   "nbconvert_exporter": "python",
   "pygments_lexer": "ipython3",
   "version": "3.11.5"
  }
 },
 "nbformat": 4,
 "nbformat_minor": 5
}

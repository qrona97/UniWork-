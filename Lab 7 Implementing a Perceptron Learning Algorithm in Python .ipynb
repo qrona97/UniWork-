{
 "cells": [
  {
   "cell_type": "markdown",
   "id": "982c1a69",
   "metadata": {},
   "source": [
    "<h1 style=\"color:red;text-align: center\";> ISAT 341 Machine Learning & Data Science</h1>\n",
    "\n",
    "\n",
    "<h2 style='color:red;text-align:center';> Lab 7 Implementing a Perceptron Learning Algorithm in Python\n",
    "    \n",
    "\n",
    "<br>\n",
    "<img src=\"images/machine_learning.jpg\" width=200; height=200>\n",
    "<h4 style='color:red;text-align:center'> Created by Quron Anthony"
   ]
  },
  {
   "cell_type": "markdown",
   "id": "2ab90ca1",
   "metadata": {},
   "source": [
    "## <u> Objectives"
   ]
  },
  {
   "cell_type": "markdown",
   "id": "ed1ef996",
   "metadata": {},
   "source": [
    "Objectives\n",
    "- Reuse and modify code from Activity 10 (Pre-Lab 7).\n",
    "- Reuse code from other lab(s)\n",
    "- Understand the McCulloch and Pitts (MCP) simplified model of a neuron\n",
    "- Mathematically Implement Frank Rosenblatt’s perceptron learning rule based on\n",
    "the MCP neuron model (use some Linear Algebra)\n",
    "- Use the Python Programming Language to Implement Frank Rosenblatt’s\n",
    "perceptron learning rule based on the MCP neuron model.\n",
    "- Use NumPy matrix products and other Numpy features (arrays and methods)\n",
    "- Train the MCP model for binary classification on subset of Iris flower dataset"
   ]
  },
  {
   "cell_type": "code",
   "execution_count": 20,
   "id": "b9de8a9c",
   "metadata": {},
   "outputs": [],
   "source": [
    "import numpy as np \n",
    "\n",
    "class Perceptron(object):\n",
    "    def __init__(self,eta=0.01,n_iter=10):\n",
    "        self.eta = eta\n",
    "        self.n_iter = n_iter\n",
    "        \n",
    "    def fit(self,X,y):\n",
    "        self.w_ = np.zeros(1+ X.shape[1])\n",
    "        #Below sets each weight to a specific values. \n",
    "        self.w_[0]=0.5\n",
    "        self.w_[1]=0.5\n",
    "        self.w_[2]=0.5\n",
    "        self.errors_ = []\n",
    "        \n",
    "        for i in range(self.n_iter):\n",
    "            errors = 0\n",
    "            for xi, target in zip(X,y):\n",
    "                update = self.eta * (target - self.predict(xi))\n",
    "                self.w_[1:] += update * xi\n",
    "                self.w_[0] += update \n",
    "                errors += int(update != 0.0)\n",
    "            self.errors_.append(errors)\n",
    "        return self\n",
    "    \n",
    "      \n",
    "    \n",
    "    def net_input(self,X):\n",
    "        \n",
    "        return np.dot(X,self.w_[1:]) + self.w_[0]\n",
    "    \n",
    "    def predict(self,X):\n",
    "        return np.where(self.net_input(X) >= 0.0, 1, -1)"
   ]
  },
  {
   "cell_type": "markdown",
   "id": "29cc5127",
   "metadata": {},
   "source": [
    "### Importing Iris Dataset "
   ]
  },
  {
   "cell_type": "code",
   "execution_count": 14,
   "id": "1ea692ba",
   "metadata": {},
   "outputs": [
    {
     "data": {
      "text/html": [
       "<div>\n",
       "<style scoped>\n",
       "    .dataframe tbody tr th:only-of-type {\n",
       "        vertical-align: middle;\n",
       "    }\n",
       "\n",
       "    .dataframe tbody tr th {\n",
       "        vertical-align: top;\n",
       "    }\n",
       "\n",
       "    .dataframe thead th {\n",
       "        text-align: right;\n",
       "    }\n",
       "</style>\n",
       "<table border=\"1\" class=\"dataframe\">\n",
       "  <thead>\n",
       "    <tr style=\"text-align: right;\">\n",
       "      <th></th>\n",
       "      <th>0</th>\n",
       "      <th>1</th>\n",
       "      <th>2</th>\n",
       "      <th>3</th>\n",
       "      <th>4</th>\n",
       "    </tr>\n",
       "  </thead>\n",
       "  <tbody>\n",
       "    <tr>\n",
       "      <th>145</th>\n",
       "      <td>6.7</td>\n",
       "      <td>3.0</td>\n",
       "      <td>5.2</td>\n",
       "      <td>2.3</td>\n",
       "      <td>Iris-virginica</td>\n",
       "    </tr>\n",
       "    <tr>\n",
       "      <th>146</th>\n",
       "      <td>6.3</td>\n",
       "      <td>2.5</td>\n",
       "      <td>5.0</td>\n",
       "      <td>1.9</td>\n",
       "      <td>Iris-virginica</td>\n",
       "    </tr>\n",
       "    <tr>\n",
       "      <th>147</th>\n",
       "      <td>6.5</td>\n",
       "      <td>3.0</td>\n",
       "      <td>5.2</td>\n",
       "      <td>2.0</td>\n",
       "      <td>Iris-virginica</td>\n",
       "    </tr>\n",
       "    <tr>\n",
       "      <th>148</th>\n",
       "      <td>6.2</td>\n",
       "      <td>3.4</td>\n",
       "      <td>5.4</td>\n",
       "      <td>2.3</td>\n",
       "      <td>Iris-virginica</td>\n",
       "    </tr>\n",
       "    <tr>\n",
       "      <th>149</th>\n",
       "      <td>5.9</td>\n",
       "      <td>3.0</td>\n",
       "      <td>5.1</td>\n",
       "      <td>1.8</td>\n",
       "      <td>Iris-virginica</td>\n",
       "    </tr>\n",
       "  </tbody>\n",
       "</table>\n",
       "</div>"
      ],
      "text/plain": [
       "       0    1    2    3               4\n",
       "145  6.7  3.0  5.2  2.3  Iris-virginica\n",
       "146  6.3  2.5  5.0  1.9  Iris-virginica\n",
       "147  6.5  3.0  5.2  2.0  Iris-virginica\n",
       "148  6.2  3.4  5.4  2.3  Iris-virginica\n",
       "149  5.9  3.0  5.1  1.8  Iris-virginica"
      ]
     },
     "execution_count": 14,
     "metadata": {},
     "output_type": "execute_result"
    }
   ],
   "source": [
    "import pandas as pd\n",
    "\n",
    "df= pd.read_csv('https://archive.ics.uci.edu/ml/''machine-learning-databases/iris/iris.data', header=None)\n",
    "df.tail()"
   ]
  },
  {
   "cell_type": "code",
   "execution_count": 15,
   "id": "64ed12df",
   "metadata": {},
   "outputs": [
    {
     "name": "stdout",
     "output_type": "stream",
     "text": [
      "(150, 5)\n"
     ]
    },
    {
     "data": {
      "text/html": [
       "<div>\n",
       "<style scoped>\n",
       "    .dataframe tbody tr th:only-of-type {\n",
       "        vertical-align: middle;\n",
       "    }\n",
       "\n",
       "    .dataframe tbody tr th {\n",
       "        vertical-align: top;\n",
       "    }\n",
       "\n",
       "    .dataframe thead th {\n",
       "        text-align: right;\n",
       "    }\n",
       "</style>\n",
       "<table border=\"1\" class=\"dataframe\">\n",
       "  <thead>\n",
       "    <tr style=\"text-align: right;\">\n",
       "      <th></th>\n",
       "      <th>sepal_length</th>\n",
       "      <th>sepal_width</th>\n",
       "      <th>petal_length</th>\n",
       "      <th>petal_width</th>\n",
       "      <th>class</th>\n",
       "    </tr>\n",
       "  </thead>\n",
       "  <tbody>\n",
       "    <tr>\n",
       "      <th>145</th>\n",
       "      <td>6.7</td>\n",
       "      <td>3.0</td>\n",
       "      <td>5.2</td>\n",
       "      <td>2.3</td>\n",
       "      <td>Iris-virginica</td>\n",
       "    </tr>\n",
       "    <tr>\n",
       "      <th>146</th>\n",
       "      <td>6.3</td>\n",
       "      <td>2.5</td>\n",
       "      <td>5.0</td>\n",
       "      <td>1.9</td>\n",
       "      <td>Iris-virginica</td>\n",
       "    </tr>\n",
       "    <tr>\n",
       "      <th>147</th>\n",
       "      <td>6.5</td>\n",
       "      <td>3.0</td>\n",
       "      <td>5.2</td>\n",
       "      <td>2.0</td>\n",
       "      <td>Iris-virginica</td>\n",
       "    </tr>\n",
       "    <tr>\n",
       "      <th>148</th>\n",
       "      <td>6.2</td>\n",
       "      <td>3.4</td>\n",
       "      <td>5.4</td>\n",
       "      <td>2.3</td>\n",
       "      <td>Iris-virginica</td>\n",
       "    </tr>\n",
       "    <tr>\n",
       "      <th>149</th>\n",
       "      <td>5.9</td>\n",
       "      <td>3.0</td>\n",
       "      <td>5.1</td>\n",
       "      <td>1.8</td>\n",
       "      <td>Iris-virginica</td>\n",
       "    </tr>\n",
       "  </tbody>\n",
       "</table>\n",
       "</div>"
      ],
      "text/plain": [
       "     sepal_length  sepal_width  petal_length  petal_width           class\n",
       "145           6.7          3.0           5.2          2.3  Iris-virginica\n",
       "146           6.3          2.5           5.0          1.9  Iris-virginica\n",
       "147           6.5          3.0           5.2          2.0  Iris-virginica\n",
       "148           6.2          3.4           5.4          2.3  Iris-virginica\n",
       "149           5.9          3.0           5.1          1.8  Iris-virginica"
      ]
     },
     "execution_count": 15,
     "metadata": {},
     "output_type": "execute_result"
    }
   ],
   "source": [
    "import pandas\n",
    "url = 'https://archive.ics.uci.edu/ml/''machine-learning-databases/iris/iris.data'\n",
    "names= ['sepal_length','sepal_width','petal_length','petal_width','class']\n",
    "iris_df = pandas.read_csv(url,names=names)\n",
    "print(iris_df.shape)\n",
    "iris_df.tail()"
   ]
  },
  {
   "cell_type": "code",
   "execution_count": 16,
   "id": "a55a59ca",
   "metadata": {},
   "outputs": [
    {
     "data": {
      "text/plain": [
       "2"
      ]
     },
     "execution_count": 16,
     "metadata": {},
     "output_type": "execute_result"
    }
   ],
   "source": [
    "# Converts Versicolor = 1 and setosa = -1\n",
    "import numpy as np\n",
    "\n",
    "y=df.iloc[0:100, 4].values\n",
    "\n",
    "#Selecting Setosa and versicolor\n",
    "y = np.where(y=='Iris-setosa',-1,1)\n",
    "# Extract sepal length and petal length \n",
    "X = df.iloc[0:100,[0,2]].values\n",
    "X.shape[1]"
   ]
  },
  {
   "cell_type": "markdown",
   "id": "38320d7a",
   "metadata": {},
   "source": [
    "### Plotting Decision Boundary "
   ]
  },
  {
   "cell_type": "code",
   "execution_count": 17,
   "id": "4c2cbc32",
   "metadata": {},
   "outputs": [
    {
     "data": {
      "image/png": "[encoded data removed]",
      "text/plain": [
       "<Figure size 640x480 with 1 Axes>"
      ]
     },
     "metadata": {},
     "output_type": "display_data"
    }
   ],
   "source": [
    "%matplotlib inline \n",
    "import matplotlib.pyplot as plt\n",
    "\n",
    "plt.scatter(X[:50,0],X[:50,1],\n",
    "           color='red', marker='o',label='setosa')\n",
    "plt.scatter(X[50:100,0], X[50:100,1],\n",
    "           color='blue', marker='x', label='versicolor')\n",
    "\n",
    "plt.xlabel('sepal length [cm]')\n",
    "plt.ylabel('petal length [cm]')\n",
    "plt.legend(loc='upper left')\n",
    "\n",
    "plt.tight_layout()\n",
    "plt.savefig('iris_decision_boundary.png',dpi=300)\n",
    "plt.show()\n"
   ]
  },
  {
   "cell_type": "markdown",
   "id": "dedd3714",
   "metadata": {},
   "source": [
    "### Training the Perceptron Model "
   ]
  },
  {
   "cell_type": "code",
   "execution_count": 18,
   "id": "a449e5e2",
   "metadata": {},
   "outputs": [
    {
     "data": {
      "text/plain": [
       "<__main__.Perceptron at 0x166b64150>"
      ]
     },
     "execution_count": 18,
     "metadata": {},
     "output_type": "execute_result"
    }
   ],
   "source": [
    "ppn = Perceptron(eta=0.1, n_iter=10)\n",
    "ppn.fit(X,y)"
   ]
  },
  {
   "cell_type": "code",
   "execution_count": 19,
   "id": "7f44fe1b",
   "metadata": {},
   "outputs": [
    {
     "data": {
      "image/png": "[encoded data removed]",
      "text/plain": [
       "<Figure size 640x480 with 1 Axes>"
      ]
     },
     "metadata": {},
     "output_type": "display_data"
    }
   ],
   "source": [
    "plt.plot(range(1,len(ppn.errors_) + 1), ppn.errors_, marker='o')\n",
    "plt.xlabel('Epochs')\n",
    "plt.ylabel('Number of misclassifications')\n",
    "\n",
    "plt.tight_layout()\n",
    "plt.savefig('perceptron_1.png',dpi=300)\n",
    "plt.show()"
   ]
  },
  {
   "cell_type": "markdown",
   "id": "2d3f99b6",
   "metadata": {},
   "source": [
    "|Run #|𝜼|Epochs to Convergence|𝒘𝟎|𝒘𝟏|𝒘𝟐|\n",
    "|-----|-|---------------------|--|--|--|\n",
    "|1    |0.05|     6       |0|0|0|\n",
    "|2    |0.1|        6           |0.5|0.5|0.5|\n",
    "|3    |0.05|      6            |2|-2|3|\n",
    "|4    |0.05|       6           |-4|4|1|\n",
    "|5    |0.1|    6|1|1|1| "
   ]
  },
  {
   "cell_type": "markdown",
   "id": "724b9d4b",
   "metadata": {},
   "source": [
    "### Questions "
   ]
  },
  {
   "cell_type": "markdown",
   "id": "a2085c16",
   "metadata": {},
   "source": [
    "1. self.w_[1:] += update * xi\n",
    "    This code is updating the weight by multiplying the updated xi by the update equation listed above \n",
    "    \n",
    "2. errors += int(update != 0.0)\n",
    "    This code is adding to the errors list as in integer that cannot equal 0. "
   ]
  },
  {
   "cell_type": "code",
   "execution_count": null,
   "id": "76f79b24",
   "metadata": {},
   "outputs": [],
   "source": []
  }
 ],
 "metadata": {
  "kernelspec": {
   "display_name": "Python [conda env:base] *",
   "language": "python",
   "name": "conda-base-py"
  },
  "language_info": {
   "codemirror_mode": {
    "name": "ipython",
    "version": 3
   },
   "file_extension": ".py",
   "mimetype": "text/x-python",
   "name": "python",
   "nbconvert_exporter": "python",
   "pygments_lexer": "ipython3",
   "version": "3.10.15"
  }
 },
 "nbformat": 4,
 "nbformat_minor": 5
}

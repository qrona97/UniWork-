{
 "cells": [
  {
   "cell_type": "markdown",
   "id": "4db6d9bd",
   "metadata": {},
   "source": [
    "<h1 style=\"color:red;text-align: center\";> ISAT 341 Machine Learning & Data Science</h1>\n",
    "\n",
    "\n",
    "<h2 style='color:red;text-align:center';> Lab 4 - K-Nearest Neighbors Classification with\n",
    "Imported Data\n",
    "\n",
    "<br>\n",
    "<img src=\"images/machine_learning.jpg\" width=200; height=200>\n",
    "<h3 style='color:red;text-align:center'> Classification with Imported Data (The Iris Flower Dataset)"
   ]
  },
  {
   "cell_type": "markdown",
   "id": "cf5a31a7",
   "metadata": {},
   "source": [
    "<h2 style='color:red;text-align:center'> Created by Quron D. Anthony </h1>\n",
    "<br>\n"
   ]
  },
  {
   "cell_type": "markdown",
   "id": "978b2d9a",
   "metadata": {},
   "source": [
    "### <u> Objectives\n",
    "- Create and use Machine Learning Models with SciKit Learn\n",
    "- Learn more advanced NumPy (Numerical Python) features\n",
    "- Learn how import data from remote websites (UCI Machine Learning Datasets)\n",
    "- Learn how to import and use SciKit Learn built-in datasets (iris flower dataset)\n",
    "- Train-Test Split of data with SciKit Learn\n",
    "- Perform Classification with SciKit Learn\n",
    "- Create Predictive Models\n",
    "- Perform Model Evaluation\n",
    "    - Model Score and Accuracy\n",
    "- Decision Boundary Plotting with MatPlotLib"
   ]
  },
  {
   "cell_type": "code",
   "execution_count": 1,
   "id": "4c403a7f",
   "metadata": {},
   "outputs": [],
   "source": [
    "%matplotlib inline\n",
    "import matplotlib.pyplot as plt\n",
    "import numpy as np"
   ]
  },
  {
   "cell_type": "code",
   "execution_count": 7,
   "id": "1b55b5df",
   "metadata": {},
   "outputs": [
    {
     "data": {
      "text/html": [
       "<div>\n",
       "<style scoped>\n",
       "    .dataframe tbody tr th:only-of-type {\n",
       "        vertical-align: middle;\n",
       "    }\n",
       "\n",
       "    .dataframe tbody tr th {\n",
       "        vertical-align: top;\n",
       "    }\n",
       "\n",
       "    .dataframe thead th {\n",
       "        text-align: right;\n",
       "    }\n",
       "</style>\n",
       "<table border=\"1\" class=\"dataframe\">\n",
       "  <thead>\n",
       "    <tr style=\"text-align: right;\">\n",
       "      <th></th>\n",
       "      <th>sepal_length</th>\n",
       "      <th>sepal_width</th>\n",
       "      <th>petal_length</th>\n",
       "      <th>petal_width</th>\n",
       "      <th>class</th>\n",
       "    </tr>\n",
       "  </thead>\n",
       "  <tbody>\n",
       "    <tr>\n",
       "      <th>145</th>\n",
       "      <td>6.7</td>\n",
       "      <td>3.0</td>\n",
       "      <td>5.2</td>\n",
       "      <td>2.3</td>\n",
       "      <td>Iris-virginica</td>\n",
       "    </tr>\n",
       "    <tr>\n",
       "      <th>146</th>\n",
       "      <td>6.3</td>\n",
       "      <td>2.5</td>\n",
       "      <td>5.0</td>\n",
       "      <td>1.9</td>\n",
       "      <td>Iris-virginica</td>\n",
       "    </tr>\n",
       "    <tr>\n",
       "      <th>147</th>\n",
       "      <td>6.5</td>\n",
       "      <td>3.0</td>\n",
       "      <td>5.2</td>\n",
       "      <td>2.0</td>\n",
       "      <td>Iris-virginica</td>\n",
       "    </tr>\n",
       "    <tr>\n",
       "      <th>148</th>\n",
       "      <td>6.2</td>\n",
       "      <td>3.4</td>\n",
       "      <td>5.4</td>\n",
       "      <td>2.3</td>\n",
       "      <td>Iris-virginica</td>\n",
       "    </tr>\n",
       "    <tr>\n",
       "      <th>149</th>\n",
       "      <td>5.9</td>\n",
       "      <td>3.0</td>\n",
       "      <td>5.1</td>\n",
       "      <td>1.8</td>\n",
       "      <td>Iris-virginica</td>\n",
       "    </tr>\n",
       "  </tbody>\n",
       "</table>\n",
       "</div>"
      ],
      "text/plain": [
       "     sepal_length  sepal_width  petal_length  petal_width           class\n",
       "145           6.7          3.0           5.2          2.3  Iris-virginica\n",
       "146           6.3          2.5           5.0          1.9  Iris-virginica\n",
       "147           6.5          3.0           5.2          2.0  Iris-virginica\n",
       "148           6.2          3.4           5.4          2.3  Iris-virginica\n",
       "149           5.9          3.0           5.1          1.8  Iris-virginica"
      ]
     },
     "execution_count": 7,
     "metadata": {},
     "output_type": "execute_result"
    }
   ],
   "source": [
    "import pandas as pd\n",
    "url = \"http://archive.ics.uci.edu/ml/machine-learning-databases/iris/iris.data\"\n",
    "names =['sepal_length',\"sepal_width\",'petal_length','petal_width','class']\n",
    "iris_df = pd.read_csv(url,names=names)\n",
    "iris_df.tail()"
   ]
  },
  {
   "cell_type": "markdown",
   "id": "8fdaa685",
   "metadata": {},
   "source": [
    "### Load & Examine Datasets"
   ]
  },
  {
   "cell_type": "code",
   "execution_count": 15,
   "id": "3a58bf43",
   "metadata": {},
   "outputs": [],
   "source": [
    "from sklearn.datasets import load_iris \n",
    "iris= load_iris()"
   ]
  },
  {
   "cell_type": "code",
   "execution_count": 16,
   "id": "d79dfa68",
   "metadata": {},
   "outputs": [
    {
     "name": "stdout",
     "output_type": "stream",
     "text": [
      "Keys of the iris dataset: \n",
      "dict_keys(['data', 'target', 'frame', 'target_names', 'DESCR', 'feature_names', 'filename', 'data_module'])\n"
     ]
    }
   ],
   "source": [
    "print('Keys of the iris dataset: \\n{}'.format(iris.keys()))"
   ]
  },
  {
   "cell_type": "code",
   "execution_count": 17,
   "id": "d3858251",
   "metadata": {},
   "outputs": [
    {
     "name": "stdout",
     "output_type": "stream",
     "text": [
      "\n",
      " .. _iris_dataset:\n",
      "\n",
      "Iris plants dataset\n",
      "--------------------\n",
      "\n",
      "**Data Set Characteristics:**\n",
      "\n",
      "    :Number of Instances: 150 (50 in each of three classes)\n",
      "    :Number of Attributes: 4 numeric, predictive attributes and the class\n",
      "    :Attribute Information:\n",
      "        - sepal length in cm\n",
      "        - sepal width in cm\n",
      "        - petal length in cm\n",
      "        - petal width in cm\n",
      "        - class:\n",
      "                - Iris-Setosa\n",
      "                - Iris-Versicolour\n",
      "                - Iris-Vi\n",
      "...\n"
     ]
    }
   ],
   "source": [
    "print('\\n',iris['DESCR'][:475]+'\\n...')"
   ]
  },
  {
   "cell_type": "code",
   "execution_count": 20,
   "id": "5424035d",
   "metadata": {},
   "outputs": [
    {
     "name": "stdout",
     "output_type": "stream",
     "text": [
      "Target Names : ['setosa' 'versicolor' 'virginica']\n",
      "Data Type: <class 'numpy.ndarray'>\n"
     ]
    }
   ],
   "source": [
    "print('Target Names : {}'.format(iris.target_names) )\n",
    "\n",
    "print('Data Type: {}'.format(type(iris.target_names)))"
   ]
  },
  {
   "cell_type": "code",
   "execution_count": 22,
   "id": "76184707",
   "metadata": {},
   "outputs": [
    {
     "name": "stdout",
     "output_type": "stream",
     "text": [
      "Feature Names :\n",
      " ['sepal length (cm)', 'sepal width (cm)', 'petal length (cm)', 'petal width (cm)']\n"
     ]
    }
   ],
   "source": [
    "print('Feature Names :\\n {}'.format(iris.feature_names))"
   ]
  },
  {
   "cell_type": "code",
   "execution_count": 23,
   "id": "52e38bd8",
   "metadata": {},
   "outputs": [
    {
     "name": "stdout",
     "output_type": "stream",
     "text": [
      "Shape of the data : (150, 4)\n"
     ]
    }
   ],
   "source": [
    "print('Shape of the data : {}'.format(iris.data.shape))"
   ]
  },
  {
   "cell_type": "code",
   "execution_count": 24,
   "id": "b732d4af",
   "metadata": {},
   "outputs": [
    {
     "name": "stdout",
     "output_type": "stream",
     "text": [
      "[0 0 0 0 0 0 0 0 0 0 0 0 0 0 0 0 0 0 0 0 0 0 0 0 0 0 0 0 0 0 0 0 0 0 0 0 0\n",
      " 0 0 0 0 0 0 0 0 0 0 0 0 0 1 1 1 1 1 1 1 1 1 1 1 1 1 1 1 1 1 1 1 1 1 1 1 1\n",
      " 1 1 1 1 1 1 1 1 1 1 1 1 1 1 1 1 1 1 1 1 1 1 1 1 1 1 2 2 2 2 2 2 2 2 2 2 2\n",
      " 2 2 2 2 2 2 2 2 2 2 2 2 2 2 2 2 2 2 2 2 2 2 2 2 2 2 2 2 2 2 2 2 2 2 2 2 2\n",
      " 2 2]\n"
     ]
    }
   ],
   "source": [
    "print(iris.target)"
   ]
  },
  {
   "cell_type": "markdown",
   "id": "d3ffd874",
   "metadata": {},
   "source": [
    "#### Creating the Training and Testing Data "
   ]
  },
  {
   "cell_type": "code",
   "execution_count": 27,
   "id": "9d7d8a5c",
   "metadata": {},
   "outputs": [
    {
     "name": "stdout",
     "output_type": "stream",
     "text": [
      "Class labels: [0 1 2]\n",
      "Class proportions: [50 50 50]\n"
     ]
    }
   ],
   "source": [
    "X,y=iris.data[:, :4], iris.target\n",
    "\n",
    "print('Class labels:', np.unique(y))\n",
    "print('Class proportions:', np.bincount(y))"
   ]
  },
  {
   "cell_type": "code",
   "execution_count": 28,
   "id": "af1d558d",
   "metadata": {},
   "outputs": [
    {
     "name": "stdout",
     "output_type": "stream",
     "text": [
      "Class labels of y_train: [0 1 2]\n",
      "Class proportions of y_train: [35 35 35]\n"
     ]
    }
   ],
   "source": [
    "from sklearn.model_selection import train_test_split\n",
    "\n",
    "X_train, X_test, y_train, y_test= train_test_split(\n",
    "        X,y, test_size=0.3, random_state=123,\n",
    "        stratify=y)\n",
    "print('Class labels of y_train:', np.unique(y_train))\n",
    "print('Class proportions of y_train:', np.bincount(y_train))"
   ]
  },
  {
   "cell_type": "code",
   "execution_count": 29,
   "id": "50799b11",
   "metadata": {},
   "outputs": [
    {
     "name": "stdout",
     "output_type": "stream",
     "text": [
      "X_train Shape of the data: (105, 4)\n",
      "y_train Shape of the data: (105,)\n"
     ]
    }
   ],
   "source": [
    "print('X_train Shape of the data: {}'.format(X_train.shape))\n",
    "print('y_train Shape of the data: {}'.format(y_train.shape))"
   ]
  },
  {
   "cell_type": "code",
   "execution_count": 31,
   "id": "ab326530",
   "metadata": {},
   "outputs": [
    {
     "name": "stdout",
     "output_type": "stream",
     "text": [
      "X_test Shape of the data: (45, 4)\n",
      "y_test Shape of the data: (45,)\n"
     ]
    }
   ],
   "source": [
    "print('X_test Shape of the data: {}'.format(X_test.shape))\n",
    "print('y_test Shape of the data: {}'.format(y_test.shape))"
   ]
  },
  {
   "cell_type": "markdown",
   "id": "bbd1742b",
   "metadata": {},
   "source": [
    "### Creating a K-nearest Neighbors Predictive Model (K=3)"
   ]
  },
  {
   "cell_type": "code",
   "execution_count": 34,
   "id": "03887610",
   "metadata": {},
   "outputs": [],
   "source": [
    "from sklearn.neighbors import KNeighborsClassifier\n",
    "from sklearn import metrics\n",
    "\n",
    "knn=KNeighborsClassifier(n_neighbors=3)"
   ]
  },
  {
   "cell_type": "code",
   "execution_count": 35,
   "id": "6400ea81",
   "metadata": {},
   "outputs": [
    {
     "name": "stdout",
     "output_type": "stream",
     "text": [
      "KNeighborsClassifier(n_neighbors=3)\n"
     ]
    }
   ],
   "source": [
    "print(knn)"
   ]
  },
  {
   "cell_type": "markdown",
   "id": "9bd313a8",
   "metadata": {},
   "source": [
    "#### Train the Model "
   ]
  },
  {
   "cell_type": "code",
   "execution_count": 36,
   "id": "f63a2bcf",
   "metadata": {},
   "outputs": [
    {
     "data": {
      "text/html": [
       "<style>#sk-container-id-1 {color: black;}#sk-container-id-1 pre{padding: 0;}#sk-container-id-1 div.sk-toggleable {background-color: white;}#sk-container-id-1 label.sk-toggleable__label {cursor: pointer;display: block;width: 100%;margin-bottom: 0;padding: 0.3em;box-sizing: border-box;text-align: center;}#sk-container-id-1 label.sk-toggleable__label-arrow:before {content: \"▸\";float: left;margin-right: 0.25em;color: #696969;}#sk-container-id-1 label.sk-toggleable__label-arrow:hover:before {color: black;}#sk-container-id-1 div.sk-estimator:hover label.sk-toggleable__label-arrow:before {color: black;}#sk-container-id-1 div.sk-toggleable__content {max-height: 0;max-width: 0;overflow: hidden;text-align: left;background-color: #f0f8ff;}#sk-container-id-1 div.sk-toggleable__content pre {margin: 0.2em;color: black;border-radius: 0.25em;background-color: #f0f8ff;}#sk-container-id-1 input.sk-toggleable__control:checked~div.sk-toggleable__content {max-height: 200px;max-width: 100%;overflow: auto;}#sk-container-id-1 input.sk-toggleable__control:checked~label.sk-toggleable__label-arrow:before {content: \"▾\";}#sk-container-id-1 div.sk-estimator input.sk-toggleable__control:checked~label.sk-toggleable__label {background-color: #d4ebff;}#sk-container-id-1 div.sk-label input.sk-toggleable__control:checked~label.sk-toggleable__label {background-color: #d4ebff;}#sk-container-id-1 input.sk-hidden--visually {border: 0;clip: rect(1px 1px 1px 1px);clip: rect(1px, 1px, 1px, 1px);height: 1px;margin: -1px;overflow: hidden;padding: 0;position: absolute;width: 1px;}#sk-container-id-1 div.sk-estimator {font-family: monospace;background-color: #f0f8ff;border: 1px dotted black;border-radius: 0.25em;box-sizing: border-box;margin-bottom: 0.5em;}#sk-container-id-1 div.sk-estimator:hover {background-color: #d4ebff;}#sk-container-id-1 div.sk-parallel-item::after {content: \"\";width: 100%;border-bottom: 1px solid gray;flex-grow: 1;}#sk-container-id-1 div.sk-label:hover label.sk-toggleable__label {background-color: #d4ebff;}#sk-container-id-1 div.sk-serial::before {content: \"\";position: absolute;border-left: 1px solid gray;box-sizing: border-box;top: 0;bottom: 0;left: 50%;z-index: 0;}#sk-container-id-1 div.sk-serial {display: flex;flex-direction: column;align-items: center;background-color: white;padding-right: 0.2em;padding-left: 0.2em;position: relative;}#sk-container-id-1 div.sk-item {position: relative;z-index: 1;}#sk-container-id-1 div.sk-parallel {display: flex;align-items: stretch;justify-content: center;background-color: white;position: relative;}#sk-container-id-1 div.sk-item::before, #sk-container-id-1 div.sk-parallel-item::before {content: \"\";position: absolute;border-left: 1px solid gray;box-sizing: border-box;top: 0;bottom: 0;left: 50%;z-index: -1;}#sk-container-id-1 div.sk-parallel-item {display: flex;flex-direction: column;z-index: 1;position: relative;background-color: white;}#sk-container-id-1 div.sk-parallel-item:first-child::after {align-self: flex-end;width: 50%;}#sk-container-id-1 div.sk-parallel-item:last-child::after {align-self: flex-start;width: 50%;}#sk-container-id-1 div.sk-parallel-item:only-child::after {width: 0;}#sk-container-id-1 div.sk-dashed-wrapped {border: 1px dashed gray;margin: 0 0.4em 0.5em 0.4em;box-sizing: border-box;padding-bottom: 0.4em;background-color: white;}#sk-container-id-1 div.sk-label label {font-family: monospace;font-weight: bold;display: inline-block;line-height: 1.2em;}#sk-container-id-1 div.sk-label-container {text-align: center;}#sk-container-id-1 div.sk-container {/* jupyter's `normalize.less` sets `[hidden] { display: none; }` but bootstrap.min.css set `[hidden] { display: none !important; }` so we also need the `!important` here to be able to override the default hidden behavior on the sphinx rendered scikit-learn.org. See: https://github.com/scikit-learn/scikit-learn/issues/21755 */display: inline-block !important;position: relative;}#sk-container-id-1 div.sk-text-repr-fallback {display: none;}</style><div id=\"sk-container-id-1\" class=\"sk-top-container\"><div class=\"sk-text-repr-fallback\"><pre>KNeighborsClassifier(n_neighbors=3)</pre><b>In a Jupyter environment, please rerun this cell to show the HTML representation or trust the notebook. <br />On GitHub, the HTML representation is unable to render, please try loading this page with nbviewer.org.</b></div><div class=\"sk-container\" hidden><div class=\"sk-item\"><div class=\"sk-estimator sk-toggleable\"><input class=\"sk-toggleable__control sk-hidden--visually\" id=\"sk-estimator-id-1\" type=\"checkbox\" checked><label for=\"sk-estimator-id-1\" class=\"sk-toggleable__label sk-toggleable__label-arrow\">KNeighborsClassifier</label><div class=\"sk-toggleable__content\"><pre>KNeighborsClassifier(n_neighbors=3)</pre></div></div></div></div></div>"
      ],
      "text/plain": [
       "KNeighborsClassifier(n_neighbors=3)"
      ]
     },
     "execution_count": 36,
     "metadata": {},
     "output_type": "execute_result"
    }
   ],
   "source": [
    "knn.fit(X_train,y_train)"
   ]
  },
  {
   "cell_type": "code",
   "execution_count": 37,
   "id": "eae42964",
   "metadata": {},
   "outputs": [],
   "source": [
    "y_pred=knn.predict(X_test)"
   ]
  },
  {
   "cell_type": "code",
   "execution_count": 38,
   "id": "1163fe1b",
   "metadata": {},
   "outputs": [
    {
     "name": "stdout",
     "output_type": "stream",
     "text": [
      "Test set predictions:\n",
      " [2 2 1 1 2 0 0 1 0 0 2 0 2 0 1 0 2 2 0 0 0 0 0 1 0 1 2 0 1 2 2 2 2 1 1 1 2\n",
      " 2 2 0 2 1 1 2 1]\n",
      "Actual true values:\n",
      " [1 2 1 1 2 0 0 1 0 0 2 0 2 0 1 0 2 2 0 0 0 0 0 1 0 1 2 0 1 2 2 2 2 1 1 1 2\n",
      " 1 2 0 2 1 1 2 1]\n"
     ]
    }
   ],
   "source": [
    "print(\"Test set predictions:\\n {}\".format(y_pred))\n",
    "print(\"Actual true values:\\n {}\".format(y_test))"
   ]
  },
  {
   "cell_type": "markdown",
   "id": "c218ffaf",
   "metadata": {},
   "source": [
    "### Evaluating the K-Nearest Neighbors Model"
   ]
  },
  {
   "cell_type": "code",
   "execution_count": 39,
   "id": "fb0ecb17",
   "metadata": {},
   "outputs": [
    {
     "name": "stdout",
     "output_type": "stream",
     "text": [
      "Test accuracy: 0.96\n"
     ]
    }
   ],
   "source": [
    "print('Test accuracy: {0:0.2f}'.format(knn.score(X_test,y_test)))"
   ]
  },
  {
   "cell_type": "code",
   "execution_count": 40,
   "id": "82ec152a",
   "metadata": {},
   "outputs": [
    {
     "name": "stdout",
     "output_type": "stream",
     "text": [
      "Model's Predictive Accuracy for k = 3 is 0.96 \n",
      "\n"
     ]
    }
   ],
   "source": [
    "k=knn.n_neighbors\n",
    "print(\"Model's Predictive Accuracy for k = {0} is {1:0.2f} \\n\".format(k, metrics.accuracy_score(y_test,y_pred)))"
   ]
  },
  {
   "cell_type": "code",
   "execution_count": 41,
   "id": "e24b513a",
   "metadata": {},
   "outputs": [
    {
     "name": "stdout",
     "output_type": "stream",
     "text": [
      "X_new.shape is: (1, 4)\n"
     ]
    }
   ],
   "source": [
    "#Reshaping array\n",
    "X_new = np.array([[5,2.9,1,0.2]])\n",
    "print('X_new.shape is: {}'.format(X_new.shape))"
   ]
  },
  {
   "cell_type": "code",
   "execution_count": 42,
   "id": "ae33238c",
   "metadata": {},
   "outputs": [
    {
     "name": "stdout",
     "output_type": "stream",
     "text": [
      "Prediction: [0]\n",
      "Predicted Target Name : ['setosa']\n"
     ]
    }
   ],
   "source": [
    "prediction = knn.predict(X_new)\n",
    "print(\"Prediction: {}\".format(prediction))\n",
    "print(\"Predicted Target Name : {}\".format(iris['target_names'][prediction]))"
   ]
  },
  {
   "cell_type": "code",
   "execution_count": 44,
   "id": "3770e6b6",
   "metadata": {},
   "outputs": [
    {
     "name": "stdout",
     "output_type": "stream",
     "text": [
      "KNeighborsClassifier(n_neighbors=1)\n",
      "Test accuracy (using knn.score()) for k = 1 is 0.96\n",
      "Model's Predictive accuracy for k=1 is 0.96\n",
      "Misclassified samples for k = 1 are 2\n",
      "\n",
      "KNeighborsClassifier()\n",
      "Test accuracy (using knn.score()) for k = 5 is 0.96\n",
      "Model's Predictive accuracy for k=5 is 0.96\n",
      "Misclassified samples for k = 5 are 2\n",
      "\n"
     ]
    }
   ],
   "source": [
    "from sklearn.neighbors import KNeighborsClassifier\n",
    "from sklearn import metrics\n",
    "for k in [1,5]:\n",
    "    knn=KNeighborsClassifier(n_neighbors=k)\n",
    "    print(knn)\n",
    "    knn.fit(X_train,y_train)\n",
    "    y_pred=knn.predict(X_test)\n",
    "    print('Test accuracy (using knn.score()) for k = {0} is {1:0.2f}'.format(k,knn.score(X_test,y_test)))\n",
    "    print(\"Model's Predictive accuracy for k={0} is {1:0.2f}\".format(k,metrics.accuracy_score(y_test,y_pred)))\n",
    "    print('Misclassified samples for k = {0} are {1}\\n'.format(k,(y_pred !=y_test).sum()))"
   ]
  },
  {
   "cell_type": "code",
   "execution_count": 45,
   "id": "cc8c07e2",
   "metadata": {},
   "outputs": [
    {
     "name": "stdout",
     "output_type": "stream",
     "text": [
      "KNeighborsClassifier(n_neighbors=1)\n",
      "Test accuracy (using knn.score()) for k = 1 is 0.96\n",
      "Model's Predictive accuracy for k=1 is 0.96\n",
      "Misclassified samples for k = 1 are 2\n",
      "\n",
      "KNeighborsClassifier(n_neighbors=25)\n",
      "Test accuracy (using knn.score()) for k = 25 is 0.93\n",
      "Model's Predictive accuracy for k=25 is 0.93\n",
      "Misclassified samples for k = 25 are 3\n",
      "\n"
     ]
    }
   ],
   "source": [
    "from sklearn.neighbors import KNeighborsClassifier\n",
    "from sklearn import metrics\n",
    "for k in [1,25]:\n",
    "    knn=KNeighborsClassifier(n_neighbors=k)\n",
    "    print(knn)\n",
    "    knn.fit(X_train,y_train)\n",
    "    y_pred=knn.predict(X_test)\n",
    "    print('Test accuracy (using knn.score()) for k = {0} is {1:0.2f}'.format(k,knn.score(X_test,y_test)))\n",
    "    print(\"Model's Predictive accuracy for k={0} is {1:0.2f}\".format(k,metrics.accuracy_score(y_test,y_pred)))\n",
    "    print('Misclassified samples for k = {0} are {1}\\n'.format(k,(y_pred !=y_test).sum()))"
   ]
  },
  {
   "cell_type": "code",
   "execution_count": null,
   "id": "c86f5b82",
   "metadata": {},
   "outputs": [],
   "source": []
  }
 ],
 "metadata": {
  "kernelspec": {
   "display_name": "Python [conda env:base] *",
   "language": "python",
   "name": "conda-base-py"
  },
  "language_info": {
   "codemirror_mode": {
    "name": "ipython",
    "version": 3
   },
   "file_extension": ".py",
   "mimetype": "text/x-python",
   "name": "python",
   "nbconvert_exporter": "python",
   "pygments_lexer": "ipython3",
   "version": "3.10.15"
  }
 },
 "nbformat": 4,
 "nbformat_minor": 5
}
